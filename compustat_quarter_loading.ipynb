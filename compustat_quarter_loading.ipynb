{
 "cells": [
  {
   "cell_type": "code",
   "execution_count": 6,
   "metadata": {},
   "outputs": [],
   "source": [
    "import sqlite3\n",
    "import pandas as pd\n",
    "import numpy as np\n",
    "import wrds"
   ]
  },
  {
   "cell_type": "code",
   "execution_count": 10,
   "metadata": {},
   "outputs": [],
   "source": [
    "from sqlalchemy import create_engine\n",
    "import os\n",
    "from dotenv import load_dotenv\n",
    "load_dotenv()\n",
    "\n",
    "connection_string = (\n",
    "  \"postgresql+psycopg2://\"\n",
    " f\"{os.getenv('WRDS_USER')}:{os.getenv('WRDS_PASSWORD')}\"\n",
    "  \"@wrds-pgdata.wharton.upenn.edu:9737/wrds\"\n",
    ")\n",
    "\n",
    "wrds = create_engine(connection_string, pool_pre_ping=True)"
   ]
  },
  {
   "cell_type": "code",
   "execution_count": 8,
   "metadata": {},
   "outputs": [],
   "source": [
    "start_date = \"2019-01-01\"\n",
    "end_date = \"2022-12-31\""
   ]
  },
  {
   "cell_type": "code",
   "execution_count": 17,
   "metadata": {},
   "outputs": [],
   "source": [
    "compustat_query = (\n",
    "  \"SELECT gvkey, datadate, saleq, cshoq, ceqq, ibq, prccq, rdq, tic, dvy, fyr, fqtr, fyearq \"\n",
    "    \"FROM comp.fundq \"\n",
    "    \"WHERE indfmt = 'INDL' \"\n",
    "          \"AND datafmt = 'STD' \"\n",
    "          \"AND consol = 'C' \"\n",
    "          \"AND curcdq = 'USD' \"\n",
    "          \"AND popsrc = 'D' \"\n",
    "         f\"AND datadate BETWEEN '{start_date}' AND '{end_date}'\"\n",
    ")\n",
    "\n",
    "compustat = pd.read_sql_query(\n",
    "  sql=compustat_query,\n",
    "  con=wrds,\n",
    "  dtype={\"gvkey\": str},\n",
    "  parse_dates={\"datadate\"}\n",
    ")"
   ]
  },
  {
   "cell_type": "code",
   "execution_count": 18,
   "metadata": {},
   "outputs": [],
   "source": [
    "compustat = (compustat\n",
    "  .assign(year=lambda x: pd.DatetimeIndex(x[\"datadate\"]).year)\n",
    "  .sort_values(\"datadate\")\n",
    "  .reset_index()\n",
    ")\n",
    "\n",
    "tidy_finance = sqlite3.connect('data/compustat.db.sqlite')\n",
    "\n",
    "(compustat\n",
    "  .to_sql(name=\"compustatq\", \n",
    "          con=tidy_finance, \n",
    "          if_exists=\"replace\",\n",
    "          index=False)\n",
    ")\n",
    "\n",
    "tidy_finance.close()"
   ]
  }
 ],
 "metadata": {
  "kernelspec": {
   "display_name": "financial_research",
   "language": "python",
   "name": "python3"
  },
  "language_info": {
   "codemirror_mode": {
    "name": "ipython",
    "version": 3
   },
   "file_extension": ".py",
   "mimetype": "text/x-python",
   "name": "python",
   "nbconvert_exporter": "python",
   "pygments_lexer": "ipython3",
   "version": "3.12.4"
  }
 },
 "nbformat": 4,
 "nbformat_minor": 2
}
