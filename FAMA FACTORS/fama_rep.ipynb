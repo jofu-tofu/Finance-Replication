{
 "cells": [
  {
   "cell_type": "code",
   "execution_count": 2,
   "metadata": {},
   "outputs": [],
   "source": [
    "import pandas as pd\n",
    "import numpy as np\n",
    "import sqlite3\n",
    "import statsmodels.formula.api as smf\n",
    "from regtabletotext import prettify_result"
   ]
  },
  {
   "cell_type": "markdown",
   "metadata": {},
   "source": [
    "First, I'll load in the data I have stored in my DB, this includes Fama's precomputed values, CRSP, and Compustat data."
   ]
  },
  {
   "cell_type": "code",
   "execution_count": 3,
   "metadata": {},
   "outputs": [],
   "source": [
    "crspdb = sqlite3.connect(\n",
    "  database=\"../data/crsp.db.sqlite\"\n",
    ")\n",
    "\n",
    "compustatdb = sqlite3.connect(\n",
    "    database=\"../data/compustat.db.sqlite\"\n",
    ")\n",
    "\n",
    "db = sqlite3.connect(\n",
    "    database=\"../data/db.sqlite\"\n",
    ")\n",
    "\n",
    "crsp_monthly = (pd.read_sql_query(\n",
    "    sql=(\"SELECT permno, gvkey, date, ret_excess, mktcap, \"\n",
    "         \"mktcap_lag, exchange FROM crsp_monthly\"),\n",
    "    con=crspdb,\n",
    "    parse_dates={\"date\"})\n",
    "  .dropna()\n",
    ")\n",
    "\n",
    "compustat = (pd.read_sql_query(\n",
    "    sql=\"SELECT gvkey, datadate, be, op, inv FROM compustat\",\n",
    "    con=compustatdb,\n",
    "    parse_dates={\"datadate\"})\n",
    "  .dropna()\n",
    ")\n",
    "\n",
    "factors_ff3_monthly = pd.read_sql_query(\n",
    "  sql=\"SELECT date, smb, hml FROM factors_ff3_monthly\",\n",
    "  con=db,\n",
    "  parse_dates={\"date\"}\n",
    ")\n",
    "\n",
    "factors_ff5_monthly = pd.read_sql_query(\n",
    "  sql=\"SELECT date, smb, hml, rmw, cma FROM factors_ff5_monthly\",\n",
    "  con=db,\n",
    "  parse_dates={\"date\"}\n",
    ")"
   ]
  },
  {
   "cell_type": "markdown",
   "metadata": {},
   "source": [
    "Now I will get the data I need. For each firm, the size value is from June, the BE/ME is calculated from the year before and BE is from CRSP, while the ME is from Compustat."
   ]
  },
  {
   "cell_type": "code",
   "execution_count": 4,
   "metadata": {},
   "outputs": [],
   "source": [
    "size = (crsp_monthly\n",
    "  .query(\"date.dt.month == 6\")\n",
    "  .assign(sorting_date=lambda x: (x[\"date\"]+pd.DateOffset(months=1)))\n",
    "  .get([\"permno\", \"exchange\", \"sorting_date\", \"mktcap\"])\n",
    "  .rename(columns={\"mktcap\": \"size\"})\n",
    ")\n",
    "\n",
    "market_equity = (crsp_monthly\n",
    "  .query(\"date.dt.month == 12\")\n",
    "  .assign(sorting_date=lambda x: (x[\"date\"]+pd.DateOffset(months=7)))\n",
    "  .get([\"permno\", \"gvkey\", \"sorting_date\", \"mktcap\"])\n",
    "  .rename(columns={\"mktcap\": \"me\"})\n",
    ")\n",
    "\n",
    "book_to_market = (compustat\n",
    "  .assign(\n",
    "    sorting_date=lambda x: (pd.to_datetime(\n",
    "      (x[\"datadate\"].dt.year+1).astype(str)+\"0701\", format=\"%Y%m%d\")\n",
    "    )\n",
    "  )\n",
    "  .merge(market_equity, how=\"inner\", on=[\"gvkey\", \"sorting_date\"])\n",
    "  .assign(bm=lambda x: x[\"be\"]/x[\"me\"])\n",
    "  .get([\"permno\", \"sorting_date\", \"me\", \"bm\"])\n",
    ")\n",
    "\n",
    "sorting_variables = (size\n",
    "  .merge(book_to_market, how=\"inner\", on=[\"permno\", \"sorting_date\"])\n",
    "  .dropna()\n",
    "  .drop_duplicates(subset=[\"permno\", \"sorting_date\"])\n",
    " )"
   ]
  },
  {
   "cell_type": "markdown",
   "metadata": {},
   "source": [
    "After getting all the variables, we can assign each firm at a specific time into their portfilios based on the two factors. I follow the 2x3 factoring model here."
   ]
  },
  {
   "cell_type": "code",
   "execution_count": 5,
   "metadata": {},
   "outputs": [
    {
     "name": "stderr",
     "output_type": "stream",
     "text": [
      "C:\\Users\\joshu\\AppData\\Local\\Temp\\ipykernel_25856\\2271133125.py:24: DeprecationWarning: DataFrameGroupBy.apply operated on the grouping columns. This behavior is deprecated, and in a future version of pandas the grouping columns will be excluded from the operation. Either pass `include_groups=False` to exclude the groupings or explicitly select the grouping columns after groupby to silence this warning.\n",
      "  .apply(lambda x: x\n"
     ]
    }
   ],
   "source": [
    "def assign_portfolio(data, sorting_variable, percentiles):\n",
    "    \"\"\"Assign portfolios to a bin according to a sorting variable.\"\"\"\n",
    "    \n",
    "    breakpoints = (data\n",
    "      .query(\"exchange == 'NYSE'\")\n",
    "      .get(sorting_variable)\n",
    "      .quantile(percentiles, interpolation=\"linear\")\n",
    "    )\n",
    "    breakpoints.iloc[0] = -np.Inf\n",
    "    breakpoints.iloc[breakpoints.size-1] = np.Inf\n",
    "    \n",
    "    assigned_portfolios = pd.cut(\n",
    "      data[sorting_variable],\n",
    "      bins=breakpoints,\n",
    "      labels=pd.Series(range(1, breakpoints.size)),\n",
    "      include_lowest=True,\n",
    "      right=False\n",
    "    )\n",
    "    \n",
    "    return assigned_portfolios\n",
    "\n",
    "portfolios = (sorting_variables\n",
    "  .groupby(\"sorting_date\")\n",
    "  .apply(lambda x: x\n",
    "    .assign(\n",
    "      portfolio_size=assign_portfolio(x, \"size\", [0, 0.5, 1]),\n",
    "      portfolio_bm=assign_portfolio(x, \"bm\", [0, 0.3, 0.7, 1])\n",
    "    )\n",
    "  )\n",
    "  .reset_index(drop=True)\n",
    "  .get([\"permno\", \"sorting_date\", \"portfolio_size\", \"portfolio_bm\"])\n",
    ")"
   ]
  },
  {
   "cell_type": "markdown",
   "metadata": {},
   "source": [
    "After getting the portfolios,we need to calculate the weighted yearly return for each firm. We can do this by taking the excess returns from the last year from June.\n",
    "I use the weighted mean of the monthly returns for each firm based on the market cap from the previous month. Another possiblity is using the geometric mean, but there are a lot of numbers, so I opted against this."
   ]
  },
  {
   "cell_type": "code",
   "execution_count": 6,
   "metadata": {},
   "outputs": [],
   "source": [
    "portfolios = (crsp_monthly\n",
    "  .assign(\n",
    "    sorting_date=lambda x: (pd.to_datetime(\n",
    "      x[\"date\"].apply(lambda x: str(x.year-1)+\n",
    "        \"0701\" if x.month <= 6 else str(x.year)+\"0701\")))\n",
    "  )\n",
    "  .merge(portfolios, how=\"inner\", on=[\"permno\", \"sorting_date\"])\n",
    ")"
   ]
  },
  {
   "cell_type": "code",
   "execution_count": 22,
   "metadata": {},
   "outputs": [
    {
     "data": {
      "text/html": [
       "<div>\n",
       "<style scoped>\n",
       "    .dataframe tbody tr th:only-of-type {\n",
       "        vertical-align: middle;\n",
       "    }\n",
       "\n",
       "    .dataframe tbody tr th {\n",
       "        vertical-align: top;\n",
       "    }\n",
       "\n",
       "    .dataframe thead th {\n",
       "        text-align: right;\n",
       "    }\n",
       "</style>\n",
       "<table border=\"1\" class=\"dataframe\">\n",
       "  <thead>\n",
       "    <tr style=\"text-align: right;\">\n",
       "      <th></th>\n",
       "      <th>permno</th>\n",
       "      <th>gvkey</th>\n",
       "      <th>date</th>\n",
       "      <th>ret_excess</th>\n",
       "      <th>mktcap</th>\n",
       "      <th>mktcap_lag</th>\n",
       "      <th>exchange</th>\n",
       "      <th>sorting_date</th>\n",
       "      <th>portfolio_size</th>\n",
       "      <th>portfolio_bm</th>\n",
       "      <th>portfolio_op</th>\n",
       "      <th>portfolio_inv</th>\n",
       "    </tr>\n",
       "  </thead>\n",
       "  <tbody>\n",
       "    <tr>\n",
       "      <th>0</th>\n",
       "      <td>10001</td>\n",
       "      <td>012994</td>\n",
       "      <td>1988-07-01</td>\n",
       "      <td>0.024900</td>\n",
       "      <td>6.38600</td>\n",
       "      <td>6.20000</td>\n",
       "      <td>NASDAQ</td>\n",
       "      <td>1988-07-01</td>\n",
       "      <td>1</td>\n",
       "      <td>3</td>\n",
       "      <td>1</td>\n",
       "      <td>1</td>\n",
       "    </tr>\n",
       "    <tr>\n",
       "      <th>1</th>\n",
       "      <td>10001</td>\n",
       "      <td>012994</td>\n",
       "      <td>1988-08-01</td>\n",
       "      <td>0.023226</td>\n",
       "      <td>6.57200</td>\n",
       "      <td>6.38600</td>\n",
       "      <td>NASDAQ</td>\n",
       "      <td>1988-07-01</td>\n",
       "      <td>1</td>\n",
       "      <td>3</td>\n",
       "      <td>1</td>\n",
       "      <td>1</td>\n",
       "    </tr>\n",
       "    <tr>\n",
       "      <th>2</th>\n",
       "      <td>10001</td>\n",
       "      <td>012994</td>\n",
       "      <td>1988-09-01</td>\n",
       "      <td>-0.027959</td>\n",
       "      <td>6.36225</td>\n",
       "      <td>6.57200</td>\n",
       "      <td>NASDAQ</td>\n",
       "      <td>1988-07-01</td>\n",
       "      <td>1</td>\n",
       "      <td>3</td>\n",
       "      <td>1</td>\n",
       "      <td>1</td>\n",
       "    </tr>\n",
       "    <tr>\n",
       "      <th>3</th>\n",
       "      <td>10001</td>\n",
       "      <td>012994</td>\n",
       "      <td>1988-10-01</td>\n",
       "      <td>0.033116</td>\n",
       "      <td>6.61175</td>\n",
       "      <td>6.36225</td>\n",
       "      <td>NASDAQ</td>\n",
       "      <td>1988-07-01</td>\n",
       "      <td>1</td>\n",
       "      <td>3</td>\n",
       "      <td>1</td>\n",
       "      <td>1</td>\n",
       "    </tr>\n",
       "    <tr>\n",
       "      <th>4</th>\n",
       "      <td>10001</td>\n",
       "      <td>012994</td>\n",
       "      <td>1988-11-01</td>\n",
       "      <td>-0.005700</td>\n",
       "      <td>6.61175</td>\n",
       "      <td>6.61175</td>\n",
       "      <td>NASDAQ</td>\n",
       "      <td>1988-07-01</td>\n",
       "      <td>1</td>\n",
       "      <td>3</td>\n",
       "      <td>1</td>\n",
       "      <td>1</td>\n",
       "    </tr>\n",
       "    <tr>\n",
       "      <th>...</th>\n",
       "      <td>...</td>\n",
       "      <td>...</td>\n",
       "      <td>...</td>\n",
       "      <td>...</td>\n",
       "      <td>...</td>\n",
       "      <td>...</td>\n",
       "      <td>...</td>\n",
       "      <td>...</td>\n",
       "      <td>...</td>\n",
       "      <td>...</td>\n",
       "      <td>...</td>\n",
       "      <td>...</td>\n",
       "    </tr>\n",
       "    <tr>\n",
       "      <th>2590791</th>\n",
       "      <td>93374</td>\n",
       "      <td>184899</td>\n",
       "      <td>2023-08-01</td>\n",
       "      <td>-0.031322</td>\n",
       "      <td>6358.34448</td>\n",
       "      <td>6533.59068</td>\n",
       "      <td>NYSE</td>\n",
       "      <td>2023-07-01</td>\n",
       "      <td>2</td>\n",
       "      <td>3</td>\n",
       "      <td>1</td>\n",
       "      <td>1</td>\n",
       "    </tr>\n",
       "    <tr>\n",
       "      <th>2590792</th>\n",
       "      <td>93374</td>\n",
       "      <td>184899</td>\n",
       "      <td>2023-09-01</td>\n",
       "      <td>-0.080483</td>\n",
       "      <td>5823.32814</td>\n",
       "      <td>6358.34448</td>\n",
       "      <td>NYSE</td>\n",
       "      <td>2023-07-01</td>\n",
       "      <td>2</td>\n",
       "      <td>3</td>\n",
       "      <td>1</td>\n",
       "      <td>1</td>\n",
       "    </tr>\n",
       "    <tr>\n",
       "      <th>2590793</th>\n",
       "      <td>93374</td>\n",
       "      <td>184899</td>\n",
       "      <td>2023-10-01</td>\n",
       "      <td>-0.094096</td>\n",
       "      <td>5307.63064</td>\n",
       "      <td>5823.32814</td>\n",
       "      <td>NYSE</td>\n",
       "      <td>2023-07-01</td>\n",
       "      <td>2</td>\n",
       "      <td>3</td>\n",
       "      <td>1</td>\n",
       "      <td>1</td>\n",
       "    </tr>\n",
       "    <tr>\n",
       "      <th>2590794</th>\n",
       "      <td>93374</td>\n",
       "      <td>184899</td>\n",
       "      <td>2023-11-01</td>\n",
       "      <td>0.154231</td>\n",
       "      <td>6149.58760</td>\n",
       "      <td>5307.63064</td>\n",
       "      <td>NYSE</td>\n",
       "      <td>2023-07-01</td>\n",
       "      <td>2</td>\n",
       "      <td>3</td>\n",
       "      <td>1</td>\n",
       "      <td>1</td>\n",
       "    </tr>\n",
       "    <tr>\n",
       "      <th>2590795</th>\n",
       "      <td>93374</td>\n",
       "      <td>184899</td>\n",
       "      <td>2023-12-01</td>\n",
       "      <td>0.086134</td>\n",
       "      <td>6648.98364</td>\n",
       "      <td>6149.58760</td>\n",
       "      <td>NYSE</td>\n",
       "      <td>2023-07-01</td>\n",
       "      <td>2</td>\n",
       "      <td>3</td>\n",
       "      <td>1</td>\n",
       "      <td>1</td>\n",
       "    </tr>\n",
       "  </tbody>\n",
       "</table>\n",
       "<p>2590796 rows × 12 columns</p>\n",
       "</div>"
      ],
      "text/plain": [
       "         permno   gvkey       date  ret_excess      mktcap  mktcap_lag  \\\n",
       "0         10001  012994 1988-07-01    0.024900     6.38600     6.20000   \n",
       "1         10001  012994 1988-08-01    0.023226     6.57200     6.38600   \n",
       "2         10001  012994 1988-09-01   -0.027959     6.36225     6.57200   \n",
       "3         10001  012994 1988-10-01    0.033116     6.61175     6.36225   \n",
       "4         10001  012994 1988-11-01   -0.005700     6.61175     6.61175   \n",
       "...         ...     ...        ...         ...         ...         ...   \n",
       "2590791   93374  184899 2023-08-01   -0.031322  6358.34448  6533.59068   \n",
       "2590792   93374  184899 2023-09-01   -0.080483  5823.32814  6358.34448   \n",
       "2590793   93374  184899 2023-10-01   -0.094096  5307.63064  5823.32814   \n",
       "2590794   93374  184899 2023-11-01    0.154231  6149.58760  5307.63064   \n",
       "2590795   93374  184899 2023-12-01    0.086134  6648.98364  6149.58760   \n",
       "\n",
       "        exchange sorting_date portfolio_size portfolio_bm portfolio_op  \\\n",
       "0         NASDAQ   1988-07-01              1            3            1   \n",
       "1         NASDAQ   1988-07-01              1            3            1   \n",
       "2         NASDAQ   1988-07-01              1            3            1   \n",
       "3         NASDAQ   1988-07-01              1            3            1   \n",
       "4         NASDAQ   1988-07-01              1            3            1   \n",
       "...          ...          ...            ...          ...          ...   \n",
       "2590791     NYSE   2023-07-01              2            3            1   \n",
       "2590792     NYSE   2023-07-01              2            3            1   \n",
       "2590793     NYSE   2023-07-01              2            3            1   \n",
       "2590794     NYSE   2023-07-01              2            3            1   \n",
       "2590795     NYSE   2023-07-01              2            3            1   \n",
       "\n",
       "        portfolio_inv  \n",
       "0                   1  \n",
       "1                   1  \n",
       "2                   1  \n",
       "3                   1  \n",
       "4                   1  \n",
       "...               ...  \n",
       "2590791             1  \n",
       "2590792             1  \n",
       "2590793             1  \n",
       "2590794             1  \n",
       "2590795             1  \n",
       "\n",
       "[2590796 rows x 12 columns]"
      ]
     },
     "execution_count": 22,
     "metadata": {},
     "output_type": "execute_result"
    }
   ],
   "source": [
    "portfolios"
   ]
  },
  {
   "cell_type": "code",
   "execution_count": 7,
   "metadata": {},
   "outputs": [
    {
     "name": "stderr",
     "output_type": "stream",
     "text": [
      "C:\\Users\\joshu\\AppData\\Local\\Temp\\ipykernel_25856\\83293942.py:2: FutureWarning: The default of observed=False is deprecated and will be changed to True in a future version of pandas. Pass observed=False to retain current behavior or observed=True to adopt the future default and silence this warning.\n",
      "  .groupby([\"portfolio_size\", \"portfolio_bm\", \"date\"])\n",
      "C:\\Users\\joshu\\AppData\\Local\\Temp\\ipykernel_25856\\83293942.py:3: DeprecationWarning: DataFrameGroupBy.apply operated on the grouping columns. This behavior is deprecated, and in a future version of pandas the grouping columns will be excluded from the operation. Either pass `include_groups=False` to exclude the groupings or explicitly select the grouping columns after groupby to silence this warning.\n",
      "  .apply(lambda x: pd.Series({\n",
      "C:\\Users\\joshu\\AppData\\Local\\Temp\\ipykernel_25856\\83293942.py:9: DeprecationWarning: DataFrameGroupBy.apply operated on the grouping columns. This behavior is deprecated, and in a future version of pandas the grouping columns will be excluded from the operation. Either pass `include_groups=False` to exclude the groupings or explicitly select the grouping columns after groupby to silence this warning.\n",
      "  .apply(lambda x: pd.Series({\n"
     ]
    }
   ],
   "source": [
    "factors_replicated = (portfolios\n",
    "  .groupby([\"portfolio_size\", \"portfolio_bm\", \"date\"])\n",
    "  .apply(lambda x: pd.Series({\n",
    "    \"ret\": np.average(x[\"ret_excess\"], weights=x[\"mktcap_lag\"])\n",
    "    })\n",
    "   )\n",
    "  .reset_index()\n",
    "  .groupby(\"date\")\n",
    "  .apply(lambda x: pd.Series({\n",
    "    \"smb_replicated\": (\n",
    "      x[\"ret\"][x[\"portfolio_size\"] == 1].mean() - \n",
    "        x[\"ret\"][x[\"portfolio_size\"] == 2].mean()),\n",
    "    \"hml_replicated\": (\n",
    "      x[\"ret\"][x[\"portfolio_bm\"] == 3].mean() -\n",
    "        x[\"ret\"][x[\"portfolio_bm\"] == 1].mean())\n",
    "    }))\n",
    "  .reset_index()\n",
    ")\n",
    "\n",
    "factors_replicated = (factors_replicated\n",
    "  .merge(factors_ff3_monthly, how=\"inner\", on=\"date\")\n",
    "  .round(4)\n",
    ")"
   ]
  },
  {
   "cell_type": "code",
   "execution_count": 8,
   "metadata": {},
   "outputs": [
    {
     "name": "stdout",
     "output_type": "stream",
     "text": [
      "OLS Model:\n",
      "smb ~ smb_replicated\n",
      "\n",
      "Coefficients:\n",
      "                Estimate  Std. Error  t-Statistic  p-Value\n",
      "Intercept         -0.000       0.000       -1.408     0.16\n",
      "smb_replicated     0.989       0.004      234.132     0.00\n",
      "\n",
      "Summary statistics:\n",
      "- Number of observations: 738\n",
      "- R-squared: 0.987, Adjusted R-squared: 0.987\n",
      "- F-statistic: 54,817.973 on 1 and 736 DF, p-value: 0.000\n",
      "\n"
     ]
    }
   ],
   "source": [
    "model_smb = (smf.ols(\n",
    "    formula=\"smb ~ smb_replicated\", \n",
    "    data=factors_replicated\n",
    "  )\n",
    "  .fit()\n",
    ")\n",
    "prettify_result(model_smb)"
   ]
  },
  {
   "cell_type": "markdown",
   "metadata": {},
   "source": [
    "The above is the comparison between my SMB results and Fama and French's results. I have a correlation of 99%, which is pretty close."
   ]
  },
  {
   "cell_type": "code",
   "execution_count": 9,
   "metadata": {},
   "outputs": [
    {
     "name": "stdout",
     "output_type": "stream",
     "text": [
      "OLS Model:\n",
      "hml ~ hml_replicated\n",
      "\n",
      "Coefficients:\n",
      "                Estimate  Std. Error  t-Statistic  p-Value\n",
      "Intercept          0.000       0.000        1.873    0.061\n",
      "hml_replicated     0.963       0.007      135.623    0.000\n",
      "\n",
      "Summary statistics:\n",
      "- Number of observations: 738\n",
      "- R-squared: 0.962, Adjusted R-squared: 0.961\n",
      "- F-statistic: 18,393.559 on 1 and 736 DF, p-value: 0.000\n",
      "\n"
     ]
    }
   ],
   "source": [
    "model_hml = (smf.ols(\n",
    "    formula=\"hml ~ hml_replicated\", \n",
    "    data=factors_replicated\n",
    "  )\n",
    "  .fit()\n",
    ")\n",
    "prettify_result(model_hml)"
   ]
  },
  {
   "cell_type": "markdown",
   "metadata": {},
   "source": [
    "My high minus low is also very close, with a R^2 of 96%"
   ]
  },
  {
   "cell_type": "markdown",
   "metadata": {},
   "source": [
    "Now we can also include the other two factors in the Fama-French 5 Factor Model. We can follow a similar process as the other two variables. The only difference is that we need to compute smb based on all of the other variables together, whereas the other factors is only dependent on size. This is because Fama had a 2x5 factor model."
   ]
  },
  {
   "cell_type": "code",
   "execution_count": 10,
   "metadata": {},
   "outputs": [],
   "source": [
    "other_sorting_variables = (compustat\n",
    "  .assign(\n",
    "    sorting_date=lambda x: (pd.to_datetime(\n",
    "      (x[\"datadate\"].dt.year+1).astype(str)+\"0701\", format=\"%Y%m%d\")\n",
    "    )\n",
    "  )\n",
    "  .merge(market_equity, how=\"inner\", on=[\"gvkey\", \"sorting_date\"])\n",
    "  .assign(bm=lambda x: x[\"be\"]/x[\"me\"])\n",
    "  .get([\"permno\", \"sorting_date\", \"me\", \"bm\", \"op\", \"inv\"])\n",
    ")\n",
    "\n",
    "sorting_variables = (size\n",
    "  .merge(other_sorting_variables, how=\"inner\", on=[\"permno\", \"sorting_date\"])\n",
    "  .dropna()\n",
    "  .drop_duplicates(subset=[\"permno\", \"sorting_date\"])\n",
    " )"
   ]
  },
  {
   "cell_type": "code",
   "execution_count": 11,
   "metadata": {},
   "outputs": [
    {
     "name": "stderr",
     "output_type": "stream",
     "text": [
      "C:\\Users\\joshu\\AppData\\Local\\Temp\\ipykernel_25856\\2825916934.py:3: DeprecationWarning: DataFrameGroupBy.apply operated on the grouping columns. This behavior is deprecated, and in a future version of pandas the grouping columns will be excluded from the operation. Either pass `include_groups=False` to exclude the groupings or explicitly select the grouping columns after groupby to silence this warning.\n",
      "  .apply(lambda x: x\n",
      "C:\\Users\\joshu\\AppData\\Local\\Temp\\ipykernel_25856\\2825916934.py:9: FutureWarning: The default of observed=False is deprecated and will be changed to True in a future version of pandas. Pass observed=False to retain current behavior or observed=True to adopt the future default and silence this warning.\n",
      "  .groupby([\"sorting_date\", \"portfolio_size\"])\n",
      "C:\\Users\\joshu\\AppData\\Local\\Temp\\ipykernel_25856\\2825916934.py:10: DeprecationWarning: DataFrameGroupBy.apply operated on the grouping columns. This behavior is deprecated, and in a future version of pandas the grouping columns will be excluded from the operation. Either pass `include_groups=False` to exclude the groupings or explicitly select the grouping columns after groupby to silence this warning.\n",
      "  .apply(lambda x: x\n"
     ]
    }
   ],
   "source": [
    "portfolios = (sorting_variables\n",
    "  .groupby(\"sorting_date\")\n",
    "  .apply(lambda x: x\n",
    "    .assign(\n",
    "      portfolio_size=assign_portfolio(x, \"size\", [0, 0.5, 1])\n",
    "    )\n",
    "  )\n",
    "  .reset_index(drop=True)\n",
    "  .groupby([\"sorting_date\", \"portfolio_size\"])\n",
    "  .apply(lambda x: x\n",
    "    .assign(\n",
    "      portfolio_bm=assign_portfolio(x, \"bm\", [0, 0.3, 0.7, 1]),\n",
    "      portfolio_op=assign_portfolio(x, \"op\", [0, 0.3, 0.7, 1]),\n",
    "      portfolio_inv=assign_portfolio(x, \"inv\", [0, 0.3, 0.7, 1])\n",
    "    )\n",
    "  )\n",
    "  .reset_index(drop=True)\n",
    "  .get([\"permno\", \"sorting_date\", \n",
    "        \"portfolio_size\", \"portfolio_bm\",\n",
    "        \"portfolio_op\", \"portfolio_inv\"])\n",
    ")\n",
    "\n",
    "portfolios = (crsp_monthly\n",
    "  .assign(\n",
    "    sorting_date=lambda x: (pd.to_datetime(\n",
    "      x[\"date\"].apply(lambda x: str(x.year-1)+\n",
    "        \"0701\" if x.month <= 6 else str(x.year)+\"0701\")))\n",
    "  )\n",
    "  .merge(portfolios, how=\"inner\", on=[\"permno\", \"sorting_date\"])\n",
    ")"
   ]
  },
  {
   "cell_type": "code",
   "execution_count": 12,
   "metadata": {},
   "outputs": [
    {
     "name": "stderr",
     "output_type": "stream",
     "text": [
      "C:\\Users\\joshu\\AppData\\Local\\Temp\\ipykernel_25856\\1393307411.py:2: FutureWarning: The default of observed=False is deprecated and will be changed to True in a future version of pandas. Pass observed=False to retain current behavior or observed=True to adopt the future default and silence this warning.\n",
      "  .groupby([\"portfolio_size\", \"portfolio_bm\", \"date\"])\n",
      "C:\\Users\\joshu\\AppData\\Local\\Temp\\ipykernel_25856\\1393307411.py:3: DeprecationWarning: DataFrameGroupBy.apply operated on the grouping columns. This behavior is deprecated, and in a future version of pandas the grouping columns will be excluded from the operation. Either pass `include_groups=False` to exclude the groupings or explicitly select the grouping columns after groupby to silence this warning.\n",
      "  .apply(lambda x: pd.Series({\n",
      "C:\\Users\\joshu\\AppData\\Local\\Temp\\ipykernel_25856\\1393307411.py:12: DeprecationWarning: DataFrameGroupBy.apply operated on the grouping columns. This behavior is deprecated, and in a future version of pandas the grouping columns will be excluded from the operation. Either pass `include_groups=False` to exclude the groupings or explicitly select the grouping columns after groupby to silence this warning.\n",
      "  .apply(lambda x: pd.Series({\n"
     ]
    }
   ],
   "source": [
    "portfolios_value = (portfolios\n",
    "  .groupby([\"portfolio_size\", \"portfolio_bm\", \"date\"])\n",
    "  .apply(lambda x: pd.Series({\n",
    "      \"ret\": np.average(x[\"ret_excess\"], weights=x[\"mktcap_lag\"])\n",
    "    })\n",
    "  )\n",
    "  .reset_index()\n",
    ")\n",
    "\n",
    "factors_value = (portfolios_value\n",
    "  .groupby(\"date\")\n",
    "  .apply(lambda x: pd.Series({\n",
    "    \"hml_replicated\": (\n",
    "      x[\"ret\"][x[\"portfolio_bm\"] == 3].mean() - \n",
    "        x[\"ret\"][x[\"portfolio_bm\"] == 1].mean())})\n",
    "  )\n",
    "  .reset_index()\n",
    ")"
   ]
  },
  {
   "cell_type": "code",
   "execution_count": 13,
   "metadata": {},
   "outputs": [
    {
     "name": "stderr",
     "output_type": "stream",
     "text": [
      "C:\\Users\\joshu\\AppData\\Local\\Temp\\ipykernel_25856\\1016769137.py:2: FutureWarning: The default of observed=False is deprecated and will be changed to True in a future version of pandas. Pass observed=False to retain current behavior or observed=True to adopt the future default and silence this warning.\n",
      "  .groupby([\"portfolio_size\", \"portfolio_op\", \"date\"])\n",
      "C:\\Users\\joshu\\AppData\\Local\\Temp\\ipykernel_25856\\1016769137.py:3: DeprecationWarning: DataFrameGroupBy.apply operated on the grouping columns. This behavior is deprecated, and in a future version of pandas the grouping columns will be excluded from the operation. Either pass `include_groups=False` to exclude the groupings or explicitly select the grouping columns after groupby to silence this warning.\n",
      "  .apply(lambda x: pd.Series({\n",
      "C:\\Users\\joshu\\AppData\\Local\\Temp\\ipykernel_25856\\1016769137.py:12: DeprecationWarning: DataFrameGroupBy.apply operated on the grouping columns. This behavior is deprecated, and in a future version of pandas the grouping columns will be excluded from the operation. Either pass `include_groups=False` to exclude the groupings or explicitly select the grouping columns after groupby to silence this warning.\n",
      "  .apply(lambda x: pd.Series({\n"
     ]
    }
   ],
   "source": [
    "portfolios_profitability = (portfolios\n",
    "  .groupby([\"portfolio_size\", \"portfolio_op\", \"date\"])\n",
    "  .apply(lambda x: pd.Series({\n",
    "      \"ret\": np.average(x[\"ret_excess\"], weights=x[\"mktcap_lag\"])\n",
    "    })\n",
    "  )\n",
    "  .reset_index()\n",
    ")\n",
    "\n",
    "factors_profitability = (portfolios_profitability\n",
    "  .groupby(\"date\")\n",
    "  .apply(lambda x: pd.Series({\n",
    "    \"rmw_replicated\": (\n",
    "      x[\"ret\"][x[\"portfolio_op\"] == 3].mean() - \n",
    "        x[\"ret\"][x[\"portfolio_op\"] == 1].mean())})\n",
    "  )\n",
    "  .reset_index()\n",
    ")"
   ]
  },
  {
   "cell_type": "code",
   "execution_count": 14,
   "metadata": {},
   "outputs": [
    {
     "name": "stderr",
     "output_type": "stream",
     "text": [
      "C:\\Users\\joshu\\AppData\\Local\\Temp\\ipykernel_25856\\468946624.py:2: FutureWarning: The default of observed=False is deprecated and will be changed to True in a future version of pandas. Pass observed=False to retain current behavior or observed=True to adopt the future default and silence this warning.\n",
      "  .groupby([\"portfolio_size\", \"portfolio_inv\", \"date\"])\n",
      "C:\\Users\\joshu\\AppData\\Local\\Temp\\ipykernel_25856\\468946624.py:3: DeprecationWarning: DataFrameGroupBy.apply operated on the grouping columns. This behavior is deprecated, and in a future version of pandas the grouping columns will be excluded from the operation. Either pass `include_groups=False` to exclude the groupings or explicitly select the grouping columns after groupby to silence this warning.\n",
      "  .apply(lambda x: pd.Series({\n",
      "C:\\Users\\joshu\\AppData\\Local\\Temp\\ipykernel_25856\\468946624.py:12: DeprecationWarning: DataFrameGroupBy.apply operated on the grouping columns. This behavior is deprecated, and in a future version of pandas the grouping columns will be excluded from the operation. Either pass `include_groups=False` to exclude the groupings or explicitly select the grouping columns after groupby to silence this warning.\n",
      "  .apply(lambda x: pd.Series({\n"
     ]
    }
   ],
   "source": [
    "portfolios_investment = (portfolios\n",
    "  .groupby([\"portfolio_size\", \"portfolio_inv\", \"date\"])\n",
    "  .apply(lambda x: pd.Series({\n",
    "      \"ret\": np.average(x[\"ret_excess\"], weights=x[\"mktcap_lag\"])\n",
    "    })\n",
    "  )\n",
    "  .reset_index()\n",
    ")\n",
    "\n",
    "factors_investment = (portfolios_investment\n",
    "  .groupby(\"date\")\n",
    "  .apply(lambda x: pd.Series({\n",
    "    \"cma_replicated\": (\n",
    "      x[\"ret\"][x[\"portfolio_inv\"] == 1].mean() - \n",
    "        x[\"ret\"][x[\"portfolio_inv\"] == 3].mean())})\n",
    "  )\n",
    "  .reset_index()\n",
    ")"
   ]
  },
  {
   "cell_type": "code",
   "execution_count": 15,
   "metadata": {},
   "outputs": [
    {
     "name": "stderr",
     "output_type": "stream",
     "text": [
      "C:\\Users\\joshu\\AppData\\Local\\Temp\\ipykernel_25856\\426887677.py:7: DeprecationWarning: DataFrameGroupBy.apply operated on the grouping columns. This behavior is deprecated, and in a future version of pandas the grouping columns will be excluded from the operation. Either pass `include_groups=False` to exclude the groupings or explicitly select the grouping columns after groupby to silence this warning.\n",
      "  .apply(lambda x: pd.Series({\n"
     ]
    }
   ],
   "source": [
    "factors_size = (\n",
    "  pd.concat(\n",
    "    [portfolios_value, portfolios_profitability, portfolios_investment], \n",
    "    ignore_index=True\n",
    "  )\n",
    "  .groupby(\"date\")\n",
    "  .apply(lambda x: pd.Series({\n",
    "    \"smb_replicated\": (\n",
    "      x[\"ret\"][x[\"portfolio_size\"] == 1].mean() - \n",
    "        x[\"ret\"][x[\"portfolio_size\"] == 2].mean())})\n",
    "  )\n",
    "  .reset_index()\n",
    ")"
   ]
  },
  {
   "cell_type": "code",
   "execution_count": 16,
   "metadata": {},
   "outputs": [],
   "source": [
    "factors_replicated = (factors_size\n",
    "  .merge(factors_value, how=\"outer\", on=\"date\")\n",
    "  .merge(factors_profitability, how=\"outer\", on=\"date\")\n",
    "  .merge(factors_investment, how=\"outer\", on=\"date\")\n",
    ")\n",
    "\n",
    "factors_replicated = (factors_replicated\n",
    "  .merge(factors_ff5_monthly, how=\"inner\", on=\"date\")\n",
    "  .round(4)\n",
    ")"
   ]
  },
  {
   "cell_type": "code",
   "execution_count": 17,
   "metadata": {},
   "outputs": [
    {
     "name": "stdout",
     "output_type": "stream",
     "text": [
      "OLS Model:\n",
      "smb ~ smb_replicated\n",
      "\n",
      "Coefficients:\n",
      "                Estimate  Std. Error  t-Statistic  p-Value\n",
      "Intercept         -0.000       0.000       -1.450    0.148\n",
      "smb_replicated     0.964       0.004      227.024    0.000\n",
      "\n",
      "Summary statistics:\n",
      "- Number of observations: 726\n",
      "- R-squared: 0.986, Adjusted R-squared: 0.986\n",
      "- F-statistic: 51,540.074 on 1 and 724 DF, p-value: 0.000\n",
      "\n"
     ]
    }
   ],
   "source": [
    "model_smb = (smf.ols(\n",
    "    formula=\"smb ~ smb_replicated\", \n",
    "    data=factors_replicated\n",
    "  )\n",
    "  .fit()\n",
    ")\n",
    "prettify_result(model_smb)"
   ]
  },
  {
   "cell_type": "code",
   "execution_count": 18,
   "metadata": {},
   "outputs": [
    {
     "name": "stdout",
     "output_type": "stream",
     "text": [
      "OLS Model:\n",
      "hml ~ hml_replicated\n",
      "\n",
      "Coefficients:\n",
      "                Estimate  Std. Error  t-Statistic  p-Value\n",
      "Intercept          0.001        0.00        1.958    0.051\n",
      "hml_replicated     0.988        0.01       98.140    0.000\n",
      "\n",
      "Summary statistics:\n",
      "- Number of observations: 726\n",
      "- R-squared: 0.930, Adjusted R-squared: 0.930\n",
      "- F-statistic: 9,631.494 on 1 and 724 DF, p-value: 0.000\n",
      "\n"
     ]
    }
   ],
   "source": [
    "model_hml = (smf.ols(\n",
    "    formula=\"hml ~ hml_replicated\", \n",
    "    data=factors_replicated\n",
    "  )\n",
    "  .fit()\n",
    ")\n",
    "prettify_result(model_hml)"
   ]
  },
  {
   "cell_type": "code",
   "execution_count": 19,
   "metadata": {},
   "outputs": [
    {
     "name": "stdout",
     "output_type": "stream",
     "text": [
      "OLS Model:\n",
      "rmw ~ rmw_replicated\n",
      "\n",
      "Coefficients:\n",
      "                Estimate  Std. Error  t-Statistic  p-Value\n",
      "Intercept           0.00       0.000        0.183    0.855\n",
      "rmw_replicated      0.95       0.009      107.455    0.000\n",
      "\n",
      "Summary statistics:\n",
      "- Number of observations: 726\n",
      "- R-squared: 0.941, Adjusted R-squared: 0.941\n",
      "- F-statistic: 11,546.613 on 1 and 724 DF, p-value: 0.000\n",
      "\n"
     ]
    }
   ],
   "source": [
    "model_rmw = (smf.ols(\n",
    "    formula=\"rmw ~ rmw_replicated\", \n",
    "    data=factors_replicated\n",
    "  )\n",
    "  .fit()\n",
    ")\n",
    "prettify_result(model_rmw)"
   ]
  },
  {
   "cell_type": "code",
   "execution_count": 20,
   "metadata": {},
   "outputs": [
    {
     "name": "stdout",
     "output_type": "stream",
     "text": [
      "OLS Model:\n",
      "cma ~ cma_replicated\n",
      "\n",
      "Coefficients:\n",
      "                Estimate  Std. Error  t-Statistic  p-Value\n",
      "Intercept          0.001       0.000        3.845      0.0\n",
      "cma_replicated     0.964       0.008      121.120      0.0\n",
      "\n",
      "Summary statistics:\n",
      "- Number of observations: 726\n",
      "- R-squared: 0.953, Adjusted R-squared: 0.953\n",
      "- F-statistic: 14,670.112 on 1 and 724 DF, p-value: 0.000\n",
      "\n"
     ]
    }
   ],
   "source": [
    "model_cma = (smf.ols(\n",
    "    formula=\"cma ~ cma_replicated\", \n",
    "    data=factors_replicated\n",
    "  )\n",
    "  .fit()\n",
    ")\n",
    "prettify_result(model_cma)"
   ]
  }
 ],
 "metadata": {
  "kernelspec": {
   "display_name": "financial_research",
   "language": "python",
   "name": "python3"
  },
  "language_info": {
   "codemirror_mode": {
    "name": "ipython",
    "version": 3
   },
   "file_extension": ".py",
   "mimetype": "text/x-python",
   "name": "python",
   "nbconvert_exporter": "python",
   "pygments_lexer": "ipython3",
   "version": "3.12.4"
  }
 },
 "nbformat": 4,
 "nbformat_minor": 2
}
