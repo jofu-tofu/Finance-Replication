{
 "cells": [
  {
   "cell_type": "code",
   "execution_count": 1,
   "metadata": {},
   "outputs": [],
   "source": [
    "import pandas as pd\n",
    "import numpy as np\n",
    "import sqlite3\n",
    "import statsmodels.formula.api as smf\n",
    "\n",
    "from regtabletotext import prettify_result"
   ]
  },
  {
   "cell_type": "code",
   "execution_count": 3,
   "metadata": {},
   "outputs": [],
   "source": [
    "crspdb = sqlite3.connect(\n",
    "  database=\"../data/crsp.db.sqlite\"\n",
    ")\n",
    "\n",
    "compustatdb = sqlite3.connect(\n",
    "    database=\"../data/compustat.db.sqlite\"\n",
    ")\n",
    "\n",
    "db = sqlite3.connect(\n",
    "    database=\"../data/db.sqlite\"\n",
    ")\n",
    "\n",
    "crsp_monthly = (pd.read_sql_query(\n",
    "    sql=(\"SELECT permno, gvkey, date, ret_excess, mktcap, \"\n",
    "         \"mktcap_lag, exchange FROM crsp_monthly\"),\n",
    "    con=crspdb,\n",
    "    parse_dates={\"date\"})\n",
    "  .dropna()\n",
    ")\n",
    "\n",
    "compustat = (pd.read_sql_query(\n",
    "    sql=\"SELECT gvkey, datadate, be, op, inv FROM compustat\",\n",
    "    con=compustatdb,\n",
    "    parse_dates={\"datadate\"})\n",
    "  .dropna()\n",
    ")\n",
    "\n",
    "factors_ff3_monthly = pd.read_sql_query(\n",
    "  sql=\"SELECT date, smb, hml FROM factors_ff3_monthly\",\n",
    "  con=db,\n",
    "  parse_dates={\"date\"}\n",
    ")\n",
    "\n",
    "factors_ff5_monthly = pd.read_sql_query(\n",
    "  sql=\"SELECT date, smb, hml, rmw, cma FROM factors_ff5_monthly\",\n",
    "  con=db,\n",
    "  parse_dates={\"date\"}\n",
    ")"
   ]
  },
  {
   "cell_type": "code",
   "execution_count": 4,
   "metadata": {},
   "outputs": [],
   "source": [
    "size = (crsp_monthly\n",
    "  .query(\"date.dt.month == 6\")\n",
    "  .assign(sorting_date=lambda x: (x[\"date\"]+pd.DateOffset(months=1)))\n",
    "  .get([\"permno\", \"exchange\", \"sorting_date\", \"mktcap\"])\n",
    "  .rename(columns={\"mktcap\": \"size\"})\n",
    ")\n",
    "\n",
    "market_equity = (crsp_monthly\n",
    "  .query(\"date.dt.month == 12\")\n",
    "  .assign(sorting_date=lambda x: (x[\"date\"]+pd.DateOffset(months=7)))\n",
    "  .get([\"permno\", \"gvkey\", \"sorting_date\", \"mktcap\"])\n",
    "  .rename(columns={\"mktcap\": \"me\"})\n",
    ")\n",
    "\n",
    "book_to_market = (compustat\n",
    "  .assign(\n",
    "    sorting_date=lambda x: (pd.to_datetime(\n",
    "      (x[\"datadate\"].dt.year+1).astype(str)+\"0701\", format=\"%Y%m%d\")\n",
    "    )\n",
    "  )\n",
    "  .merge(market_equity, how=\"inner\", on=[\"gvkey\", \"sorting_date\"])\n",
    "  .assign(bm=lambda x: x[\"be\"]/x[\"me\"])\n",
    "  .get([\"permno\", \"sorting_date\", \"me\", \"bm\"])\n",
    ")\n",
    "\n",
    "sorting_variables = (size\n",
    "  .merge(book_to_market, how=\"inner\", on=[\"permno\", \"sorting_date\"])\n",
    "  .dropna()\n",
    "  .drop_duplicates(subset=[\"permno\", \"sorting_date\"])\n",
    " )"
   ]
  },
  {
   "cell_type": "code",
   "execution_count": 5,
   "metadata": {},
   "outputs": [
    {
     "name": "stderr",
     "output_type": "stream",
     "text": [
      "C:\\Users\\joshu\\AppData\\Local\\Temp\\ipykernel_35552\\2271133125.py:24: DeprecationWarning: DataFrameGroupBy.apply operated on the grouping columns. This behavior is deprecated, and in a future version of pandas the grouping columns will be excluded from the operation. Either pass `include_groups=False` to exclude the groupings or explicitly select the grouping columns after groupby to silence this warning.\n",
      "  .apply(lambda x: x\n"
     ]
    }
   ],
   "source": [
    "def assign_portfolio(data, sorting_variable, percentiles):\n",
    "    \"\"\"Assign portfolios to a bin according to a sorting variable.\"\"\"\n",
    "    \n",
    "    breakpoints = (data\n",
    "      .query(\"exchange == 'NYSE'\")\n",
    "      .get(sorting_variable)\n",
    "      .quantile(percentiles, interpolation=\"linear\")\n",
    "    )\n",
    "    breakpoints.iloc[0] = -np.Inf\n",
    "    breakpoints.iloc[breakpoints.size-1] = np.Inf\n",
    "    \n",
    "    assigned_portfolios = pd.cut(\n",
    "      data[sorting_variable],\n",
    "      bins=breakpoints,\n",
    "      labels=pd.Series(range(1, breakpoints.size)),\n",
    "      include_lowest=True,\n",
    "      right=False\n",
    "    )\n",
    "    \n",
    "    return assigned_portfolios\n",
    "\n",
    "portfolios = (sorting_variables\n",
    "  .groupby(\"sorting_date\")\n",
    "  .apply(lambda x: x\n",
    "    .assign(\n",
    "      portfolio_size=assign_portfolio(x, \"size\", [0, 0.5, 1]),\n",
    "      portfolio_bm=assign_portfolio(x, \"bm\", [0, 0.3, 0.7, 1])\n",
    "    )\n",
    "  )\n",
    "  .reset_index(drop=True)\n",
    "  .get([\"permno\", \"sorting_date\", \"portfolio_size\", \"portfolio_bm\"])\n",
    ")"
   ]
  },
  {
   "cell_type": "code",
   "execution_count": 6,
   "metadata": {},
   "outputs": [],
   "source": [
    "portfolios = (crsp_monthly\n",
    "  .assign(\n",
    "    sorting_date=lambda x: (pd.to_datetime(\n",
    "      x[\"date\"].apply(lambda x: str(x.year-1)+\n",
    "        \"0701\" if x.month <= 6 else str(x.year)+\"0701\")))\n",
    "  )\n",
    "  .merge(portfolios, how=\"inner\", on=[\"permno\", \"sorting_date\"])\n",
    ")"
   ]
  },
  {
   "cell_type": "code",
   "execution_count": 7,
   "metadata": {},
   "outputs": [
    {
     "name": "stderr",
     "output_type": "stream",
     "text": [
      "C:\\Users\\joshu\\AppData\\Local\\Temp\\ipykernel_35552\\83293942.py:2: FutureWarning: The default of observed=False is deprecated and will be changed to True in a future version of pandas. Pass observed=False to retain current behavior or observed=True to adopt the future default and silence this warning.\n",
      "  .groupby([\"portfolio_size\", \"portfolio_bm\", \"date\"])\n",
      "C:\\Users\\joshu\\AppData\\Local\\Temp\\ipykernel_35552\\83293942.py:3: DeprecationWarning: DataFrameGroupBy.apply operated on the grouping columns. This behavior is deprecated, and in a future version of pandas the grouping columns will be excluded from the operation. Either pass `include_groups=False` to exclude the groupings or explicitly select the grouping columns after groupby to silence this warning.\n",
      "  .apply(lambda x: pd.Series({\n",
      "C:\\Users\\joshu\\AppData\\Local\\Temp\\ipykernel_35552\\83293942.py:9: DeprecationWarning: DataFrameGroupBy.apply operated on the grouping columns. This behavior is deprecated, and in a future version of pandas the grouping columns will be excluded from the operation. Either pass `include_groups=False` to exclude the groupings or explicitly select the grouping columns after groupby to silence this warning.\n",
      "  .apply(lambda x: pd.Series({\n"
     ]
    }
   ],
   "source": [
    "factors_replicated = (portfolios\n",
    "  .groupby([\"portfolio_size\", \"portfolio_bm\", \"date\"])\n",
    "  .apply(lambda x: pd.Series({\n",
    "    \"ret\": np.average(x[\"ret_excess\"], weights=x[\"mktcap_lag\"])\n",
    "    })\n",
    "   )\n",
    "  .reset_index()\n",
    "  .groupby(\"date\")\n",
    "  .apply(lambda x: pd.Series({\n",
    "    \"smb_replicated\": (\n",
    "      x[\"ret\"][x[\"portfolio_size\"] == 1].mean() - \n",
    "        x[\"ret\"][x[\"portfolio_size\"] == 2].mean()),\n",
    "    \"hml_replicated\": (\n",
    "      x[\"ret\"][x[\"portfolio_bm\"] == 3].mean() -\n",
    "        x[\"ret\"][x[\"portfolio_bm\"] == 1].mean())\n",
    "    }))\n",
    "  .reset_index()\n",
    ")\n",
    "\n",
    "factors_replicated = (factors_replicated\n",
    "  .merge(factors_ff3_monthly, how=\"inner\", on=\"date\")\n",
    "  .round(4)\n",
    ")"
   ]
  },
  {
   "cell_type": "code",
   "execution_count": 8,
   "metadata": {},
   "outputs": [
    {
     "name": "stdout",
     "output_type": "stream",
     "text": [
      "OLS Model:\n",
      "smb ~ smb_replicated\n",
      "\n",
      "Coefficients:\n",
      "                Estimate  Std. Error  t-Statistic  p-Value\n",
      "Intercept         -0.000       0.000       -1.408     0.16\n",
      "smb_replicated     0.989       0.004      234.132     0.00\n",
      "\n",
      "Summary statistics:\n",
      "- Number of observations: 738\n",
      "- R-squared: 0.987, Adjusted R-squared: 0.987\n",
      "- F-statistic: 54,817.973 on 1 and 736 DF, p-value: 0.000\n",
      "\n"
     ]
    }
   ],
   "source": [
    "model_smb = (smf.ols(\n",
    "    formula=\"smb ~ smb_replicated\", \n",
    "    data=factors_replicated\n",
    "  )\n",
    "  .fit()\n",
    ")\n",
    "prettify_result(model_smb)"
   ]
  },
  {
   "cell_type": "code",
   "execution_count": 9,
   "metadata": {},
   "outputs": [],
   "source": [
    "other_sorting_variables = (compustat\n",
    "  .assign(\n",
    "    sorting_date=lambda x: (pd.to_datetime(\n",
    "      (x[\"datadate\"].dt.year+1).astype(str)+\"0701\", format=\"%Y%m%d\")\n",
    "    )\n",
    "  )\n",
    "  .merge(market_equity, how=\"inner\", on=[\"gvkey\", \"sorting_date\"])\n",
    "  .assign(bm=lambda x: x[\"be\"]/x[\"me\"])\n",
    "  .get([\"permno\", \"sorting_date\", \"me\", \"bm\", \"op\", \"inv\"])\n",
    ")\n",
    "\n",
    "sorting_variables = (size\n",
    "  .merge(other_sorting_variables, how=\"inner\", on=[\"permno\", \"sorting_date\"])\n",
    "  .dropna()\n",
    "  .drop_duplicates(subset=[\"permno\", \"sorting_date\"])\n",
    " )"
   ]
  },
  {
   "cell_type": "code",
   "execution_count": 10,
   "metadata": {},
   "outputs": [
    {
     "name": "stderr",
     "output_type": "stream",
     "text": [
      "C:\\Users\\joshu\\AppData\\Local\\Temp\\ipykernel_35552\\2825916934.py:3: DeprecationWarning: DataFrameGroupBy.apply operated on the grouping columns. This behavior is deprecated, and in a future version of pandas the grouping columns will be excluded from the operation. Either pass `include_groups=False` to exclude the groupings or explicitly select the grouping columns after groupby to silence this warning.\n",
      "  .apply(lambda x: x\n",
      "C:\\Users\\joshu\\AppData\\Local\\Temp\\ipykernel_35552\\2825916934.py:9: FutureWarning: The default of observed=False is deprecated and will be changed to True in a future version of pandas. Pass observed=False to retain current behavior or observed=True to adopt the future default and silence this warning.\n",
      "  .groupby([\"sorting_date\", \"portfolio_size\"])\n",
      "C:\\Users\\joshu\\AppData\\Local\\Temp\\ipykernel_35552\\2825916934.py:10: DeprecationWarning: DataFrameGroupBy.apply operated on the grouping columns. This behavior is deprecated, and in a future version of pandas the grouping columns will be excluded from the operation. Either pass `include_groups=False` to exclude the groupings or explicitly select the grouping columns after groupby to silence this warning.\n",
      "  .apply(lambda x: x\n"
     ]
    }
   ],
   "source": [
    "portfolios = (sorting_variables\n",
    "  .groupby(\"sorting_date\")\n",
    "  .apply(lambda x: x\n",
    "    .assign(\n",
    "      portfolio_size=assign_portfolio(x, \"size\", [0, 0.5, 1])\n",
    "    )\n",
    "  )\n",
    "  .reset_index(drop=True)\n",
    "  .groupby([\"sorting_date\", \"portfolio_size\"])\n",
    "  .apply(lambda x: x\n",
    "    .assign(\n",
    "      portfolio_bm=assign_portfolio(x, \"bm\", [0, 0.3, 0.7, 1]),\n",
    "      portfolio_op=assign_portfolio(x, \"op\", [0, 0.3, 0.7, 1]),\n",
    "      portfolio_inv=assign_portfolio(x, \"inv\", [0, 0.3, 0.7, 1])\n",
    "    )\n",
    "  )\n",
    "  .reset_index(drop=True)\n",
    "  .get([\"permno\", \"sorting_date\", \n",
    "        \"portfolio_size\", \"portfolio_bm\",\n",
    "        \"portfolio_op\", \"portfolio_inv\"])\n",
    ")\n",
    "\n",
    "portfolios = (crsp_monthly\n",
    "  .assign(\n",
    "    sorting_date=lambda x: (pd.to_datetime(\n",
    "      x[\"date\"].apply(lambda x: str(x.year-1)+\n",
    "        \"0701\" if x.month <= 6 else str(x.year)+\"0701\")))\n",
    "  )\n",
    "  .merge(portfolios, how=\"inner\", on=[\"permno\", \"sorting_date\"])\n",
    ")"
   ]
  },
  {
   "cell_type": "code",
   "execution_count": 11,
   "metadata": {},
   "outputs": [
    {
     "name": "stderr",
     "output_type": "stream",
     "text": [
      "C:\\Users\\joshu\\AppData\\Local\\Temp\\ipykernel_35552\\1393307411.py:2: FutureWarning: The default of observed=False is deprecated and will be changed to True in a future version of pandas. Pass observed=False to retain current behavior or observed=True to adopt the future default and silence this warning.\n",
      "  .groupby([\"portfolio_size\", \"portfolio_bm\", \"date\"])\n",
      "C:\\Users\\joshu\\AppData\\Local\\Temp\\ipykernel_35552\\1393307411.py:3: DeprecationWarning: DataFrameGroupBy.apply operated on the grouping columns. This behavior is deprecated, and in a future version of pandas the grouping columns will be excluded from the operation. Either pass `include_groups=False` to exclude the groupings or explicitly select the grouping columns after groupby to silence this warning.\n",
      "  .apply(lambda x: pd.Series({\n",
      "C:\\Users\\joshu\\AppData\\Local\\Temp\\ipykernel_35552\\1393307411.py:12: DeprecationWarning: DataFrameGroupBy.apply operated on the grouping columns. This behavior is deprecated, and in a future version of pandas the grouping columns will be excluded from the operation. Either pass `include_groups=False` to exclude the groupings or explicitly select the grouping columns after groupby to silence this warning.\n",
      "  .apply(lambda x: pd.Series({\n"
     ]
    }
   ],
   "source": [
    "portfolios_value = (portfolios\n",
    "  .groupby([\"portfolio_size\", \"portfolio_bm\", \"date\"])\n",
    "  .apply(lambda x: pd.Series({\n",
    "      \"ret\": np.average(x[\"ret_excess\"], weights=x[\"mktcap_lag\"])\n",
    "    })\n",
    "  )\n",
    "  .reset_index()\n",
    ")\n",
    "\n",
    "factors_value = (portfolios_value\n",
    "  .groupby(\"date\")\n",
    "  .apply(lambda x: pd.Series({\n",
    "    \"hml_replicated\": (\n",
    "      x[\"ret\"][x[\"portfolio_bm\"] == 3].mean() - \n",
    "        x[\"ret\"][x[\"portfolio_bm\"] == 1].mean())})\n",
    "  )\n",
    "  .reset_index()\n",
    ")"
   ]
  },
  {
   "cell_type": "code",
   "execution_count": 12,
   "metadata": {},
   "outputs": [
    {
     "name": "stderr",
     "output_type": "stream",
     "text": [
      "C:\\Users\\joshu\\AppData\\Local\\Temp\\ipykernel_35552\\1016769137.py:2: FutureWarning: The default of observed=False is deprecated and will be changed to True in a future version of pandas. Pass observed=False to retain current behavior or observed=True to adopt the future default and silence this warning.\n",
      "  .groupby([\"portfolio_size\", \"portfolio_op\", \"date\"])\n",
      "C:\\Users\\joshu\\AppData\\Local\\Temp\\ipykernel_35552\\1016769137.py:3: DeprecationWarning: DataFrameGroupBy.apply operated on the grouping columns. This behavior is deprecated, and in a future version of pandas the grouping columns will be excluded from the operation. Either pass `include_groups=False` to exclude the groupings or explicitly select the grouping columns after groupby to silence this warning.\n",
      "  .apply(lambda x: pd.Series({\n",
      "C:\\Users\\joshu\\AppData\\Local\\Temp\\ipykernel_35552\\1016769137.py:12: DeprecationWarning: DataFrameGroupBy.apply operated on the grouping columns. This behavior is deprecated, and in a future version of pandas the grouping columns will be excluded from the operation. Either pass `include_groups=False` to exclude the groupings or explicitly select the grouping columns after groupby to silence this warning.\n",
      "  .apply(lambda x: pd.Series({\n"
     ]
    }
   ],
   "source": [
    "portfolios_profitability = (portfolios\n",
    "  .groupby([\"portfolio_size\", \"portfolio_op\", \"date\"])\n",
    "  .apply(lambda x: pd.Series({\n",
    "      \"ret\": np.average(x[\"ret_excess\"], weights=x[\"mktcap_lag\"])\n",
    "    })\n",
    "  )\n",
    "  .reset_index()\n",
    ")\n",
    "\n",
    "factors_profitability = (portfolios_profitability\n",
    "  .groupby(\"date\")\n",
    "  .apply(lambda x: pd.Series({\n",
    "    \"rmw_replicated\": (\n",
    "      x[\"ret\"][x[\"portfolio_op\"] == 3].mean() - \n",
    "        x[\"ret\"][x[\"portfolio_op\"] == 1].mean())})\n",
    "  )\n",
    "  .reset_index()\n",
    ")"
   ]
  },
  {
   "cell_type": "code",
   "execution_count": 13,
   "metadata": {},
   "outputs": [
    {
     "name": "stderr",
     "output_type": "stream",
     "text": [
      "C:\\Users\\joshu\\AppData\\Local\\Temp\\ipykernel_35552\\468946624.py:2: FutureWarning: The default of observed=False is deprecated and will be changed to True in a future version of pandas. Pass observed=False to retain current behavior or observed=True to adopt the future default and silence this warning.\n",
      "  .groupby([\"portfolio_size\", \"portfolio_inv\", \"date\"])\n",
      "C:\\Users\\joshu\\AppData\\Local\\Temp\\ipykernel_35552\\468946624.py:3: DeprecationWarning: DataFrameGroupBy.apply operated on the grouping columns. This behavior is deprecated, and in a future version of pandas the grouping columns will be excluded from the operation. Either pass `include_groups=False` to exclude the groupings or explicitly select the grouping columns after groupby to silence this warning.\n",
      "  .apply(lambda x: pd.Series({\n",
      "C:\\Users\\joshu\\AppData\\Local\\Temp\\ipykernel_35552\\468946624.py:12: DeprecationWarning: DataFrameGroupBy.apply operated on the grouping columns. This behavior is deprecated, and in a future version of pandas the grouping columns will be excluded from the operation. Either pass `include_groups=False` to exclude the groupings or explicitly select the grouping columns after groupby to silence this warning.\n",
      "  .apply(lambda x: pd.Series({\n"
     ]
    }
   ],
   "source": [
    "portfolios_investment = (portfolios\n",
    "  .groupby([\"portfolio_size\", \"portfolio_inv\", \"date\"])\n",
    "  .apply(lambda x: pd.Series({\n",
    "      \"ret\": np.average(x[\"ret_excess\"], weights=x[\"mktcap_lag\"])\n",
    "    })\n",
    "  )\n",
    "  .reset_index()\n",
    ")\n",
    "\n",
    "factors_investment = (portfolios_investment\n",
    "  .groupby(\"date\")\n",
    "  .apply(lambda x: pd.Series({\n",
    "    \"cma_replicated\": (\n",
    "      x[\"ret\"][x[\"portfolio_inv\"] == 1].mean() - \n",
    "        x[\"ret\"][x[\"portfolio_inv\"] == 3].mean())})\n",
    "  )\n",
    "  .reset_index()\n",
    ")"
   ]
  },
  {
   "cell_type": "code",
   "execution_count": 14,
   "metadata": {},
   "outputs": [
    {
     "name": "stderr",
     "output_type": "stream",
     "text": [
      "C:\\Users\\joshu\\AppData\\Local\\Temp\\ipykernel_35552\\426887677.py:7: DeprecationWarning: DataFrameGroupBy.apply operated on the grouping columns. This behavior is deprecated, and in a future version of pandas the grouping columns will be excluded from the operation. Either pass `include_groups=False` to exclude the groupings or explicitly select the grouping columns after groupby to silence this warning.\n",
      "  .apply(lambda x: pd.Series({\n"
     ]
    }
   ],
   "source": [
    "factors_size = (\n",
    "  pd.concat(\n",
    "    [portfolios_value, portfolios_profitability, portfolios_investment], \n",
    "    ignore_index=True\n",
    "  )\n",
    "  .groupby(\"date\")\n",
    "  .apply(lambda x: pd.Series({\n",
    "    \"smb_replicated\": (\n",
    "      x[\"ret\"][x[\"portfolio_size\"] == 1].mean() - \n",
    "        x[\"ret\"][x[\"portfolio_size\"] == 2].mean())})\n",
    "  )\n",
    "  .reset_index()\n",
    ")"
   ]
  },
  {
   "cell_type": "code",
   "execution_count": 15,
   "metadata": {},
   "outputs": [],
   "source": [
    "factors_replicated = (factors_size\n",
    "  .merge(factors_value, how=\"outer\", on=\"date\")\n",
    "  .merge(factors_profitability, how=\"outer\", on=\"date\")\n",
    "  .merge(factors_investment, how=\"outer\", on=\"date\")\n",
    ")\n",
    "\n",
    "factors_replicated = (factors_replicated\n",
    "  .merge(factors_ff5_monthly, how=\"inner\", on=\"date\")\n",
    "  .round(4)\n",
    ")"
   ]
  },
  {
   "cell_type": "code",
   "execution_count": 16,
   "metadata": {},
   "outputs": [
    {
     "name": "stdout",
     "output_type": "stream",
     "text": [
      "OLS Model:\n",
      "smb ~ smb_replicated\n",
      "\n",
      "Coefficients:\n",
      "                Estimate  Std. Error  t-Statistic  p-Value\n",
      "Intercept         -0.000       0.000       -1.450    0.148\n",
      "smb_replicated     0.964       0.004      227.024    0.000\n",
      "\n",
      "Summary statistics:\n",
      "- Number of observations: 726\n",
      "- R-squared: 0.986, Adjusted R-squared: 0.986\n",
      "- F-statistic: 51,540.074 on 1 and 724 DF, p-value: 0.000\n",
      "\n"
     ]
    }
   ],
   "source": [
    "model_smb = (smf.ols(\n",
    "    formula=\"smb ~ smb_replicated\", \n",
    "    data=factors_replicated\n",
    "  )\n",
    "  .fit()\n",
    ")\n",
    "prettify_result(model_smb)"
   ]
  },
  {
   "cell_type": "code",
   "execution_count": 17,
   "metadata": {},
   "outputs": [
    {
     "name": "stdout",
     "output_type": "stream",
     "text": [
      "OLS Model:\n",
      "hml ~ hml_replicated\n",
      "\n",
      "Coefficients:\n",
      "                Estimate  Std. Error  t-Statistic  p-Value\n",
      "Intercept          0.001        0.00        1.958    0.051\n",
      "hml_replicated     0.988        0.01       98.140    0.000\n",
      "\n",
      "Summary statistics:\n",
      "- Number of observations: 726\n",
      "- R-squared: 0.930, Adjusted R-squared: 0.930\n",
      "- F-statistic: 9,631.494 on 1 and 724 DF, p-value: 0.000\n",
      "\n"
     ]
    }
   ],
   "source": [
    "model_hml = (smf.ols(\n",
    "    formula=\"hml ~ hml_replicated\", \n",
    "    data=factors_replicated\n",
    "  )\n",
    "  .fit()\n",
    ")\n",
    "prettify_result(model_hml)"
   ]
  },
  {
   "cell_type": "code",
   "execution_count": 18,
   "metadata": {},
   "outputs": [
    {
     "name": "stdout",
     "output_type": "stream",
     "text": [
      "OLS Model:\n",
      "rmw ~ rmw_replicated\n",
      "\n",
      "Coefficients:\n",
      "                Estimate  Std. Error  t-Statistic  p-Value\n",
      "Intercept           0.00       0.000        0.183    0.855\n",
      "rmw_replicated      0.95       0.009      107.455    0.000\n",
      "\n",
      "Summary statistics:\n",
      "- Number of observations: 726\n",
      "- R-squared: 0.941, Adjusted R-squared: 0.941\n",
      "- F-statistic: 11,546.613 on 1 and 724 DF, p-value: 0.000\n",
      "\n"
     ]
    }
   ],
   "source": [
    "model_rmw = (smf.ols(\n",
    "    formula=\"rmw ~ rmw_replicated\", \n",
    "    data=factors_replicated\n",
    "  )\n",
    "  .fit()\n",
    ")\n",
    "prettify_result(model_rmw)"
   ]
  },
  {
   "cell_type": "code",
   "execution_count": 19,
   "metadata": {},
   "outputs": [
    {
     "name": "stdout",
     "output_type": "stream",
     "text": [
      "OLS Model:\n",
      "cma ~ cma_replicated\n",
      "\n",
      "Coefficients:\n",
      "                Estimate  Std. Error  t-Statistic  p-Value\n",
      "Intercept          0.001       0.000        3.845      0.0\n",
      "cma_replicated     0.964       0.008      121.120      0.0\n",
      "\n",
      "Summary statistics:\n",
      "- Number of observations: 726\n",
      "- R-squared: 0.953, Adjusted R-squared: 0.953\n",
      "- F-statistic: 14,670.112 on 1 and 724 DF, p-value: 0.000\n",
      "\n"
     ]
    }
   ],
   "source": [
    "model_cma = (smf.ols(\n",
    "    formula=\"cma ~ cma_replicated\", \n",
    "    data=factors_replicated\n",
    "  )\n",
    "  .fit()\n",
    ")\n",
    "prettify_result(model_cma)"
   ]
  }
 ],
 "metadata": {
  "kernelspec": {
   "display_name": "financial_research",
   "language": "python",
   "name": "python3"
  },
  "language_info": {
   "codemirror_mode": {
    "name": "ipython",
    "version": 3
   },
   "file_extension": ".py",
   "mimetype": "text/x-python",
   "name": "python",
   "nbconvert_exporter": "python",
   "pygments_lexer": "ipython3",
   "version": "3.12.4"
  }
 },
 "nbformat": 4,
 "nbformat_minor": 2
}
