{
 "cells": [
  {
   "cell_type": "code",
   "execution_count": 1,
   "metadata": {},
   "outputs": [],
   "source": [
    "import pandas as pd\n",
    "import numpy as np\n",
    "import sqlite3\n",
    "import statsmodels.formula.api as smf\n",
    "import wrds\n",
    "from regtabletotext import prettify_result\n",
    "from dotenv import load_dotenv\n",
    "\n",
    "from plotnine import *\n",
    "from mizani.formatters import comma_format, percent_format\n",
    "from datetime import datetime"
   ]
  },
  {
   "cell_type": "code",
   "execution_count": 2,
   "metadata": {},
   "outputs": [],
   "source": [
    "from sqlalchemy import create_engine\n",
    "import os\n",
    "\n",
    "load_dotenv()\n",
    "\n",
    "connection_string = (\n",
    "  \"postgresql+psycopg2://\"\n",
    " f\"{os.getenv('WRDS_USER')}:{os.getenv('WRDS_PASSWORD')}\"\n",
    "  \"@wrds-pgdata.wharton.upenn.edu:9737/wrds\"\n",
    ")\n",
    "\n",
    "wrds = create_engine(connection_string, pool_pre_ping=True)"
   ]
  },
  {
   "cell_type": "code",
   "execution_count": 3,
   "metadata": {},
   "outputs": [],
   "source": [
    "start_date = \"01/01/1960\"\n",
    "end_date = \"12/31/2023\""
   ]
  },
  {
   "cell_type": "code",
   "execution_count": 4,
   "metadata": {},
   "outputs": [],
   "source": [
    "compustat_query = (\n",
    "  \"SELECT gvkey, datadate, seq, ceq, csho, at, act, che, dlc, dp, ib, lct, lt, txditc, txdb, txp, itcb,  pstkrv, \"\n",
    "         \"pstkl, pstk, capx, oancf, sale, cogs, xint, xsga, ebit, fyr \"\n",
    "    \"FROM comp.funda \"\n",
    "    \"WHERE indfmt = 'INDL' \"\n",
    "          \"AND datafmt = 'STD' \"\n",
    "          \"AND consol = 'C' \"\n",
    "          \"AND curcd = 'USD' \"\n",
    "         f\"AND datadate BETWEEN '{start_date}' AND '{end_date}'\"\n",
    ")\n",
    "\n",
    "compustat = pd.read_sql_query(\n",
    "  sql=compustat_query,\n",
    "  con=wrds,\n",
    "  dtype={\"gvkey\": str},\n",
    "  parse_dates={\"datadate\"}\n",
    ")"
   ]
  },
  {
   "cell_type": "code",
   "execution_count": 5,
   "metadata": {},
   "outputs": [],
   "source": [
    "compustat = (compustat\n",
    "  .assign(\n",
    "    be=lambda x: \n",
    "      (x[\"seq\"].combine_first(x[\"ceq\"]+x[\"pstk\"])\n",
    "       .combine_first(x[\"at\"]-x[\"lt\"])+\n",
    "       x[\"txditc\"].combine_first(x[\"txdb\"]+x[\"itcb\"]).fillna(0)-\n",
    "       x[\"pstkrv\"].combine_first(x[\"pstkl\"])\n",
    "       .combine_first(x[\"pstk\"]).fillna(0))\n",
    "  )\n",
    "  .assign(\n",
    "    be=lambda x: x[\"be\"].apply(lambda y: np.nan if y <= 0 else y)\n",
    "  )\n",
    "  .assign(\n",
    "    op=lambda x: \n",
    "      ((x[\"sale\"]-x[\"cogs\"].fillna(0)- \n",
    "        x[\"xsga\"].fillna(0)-x[\"xint\"].fillna(0))/x[\"be\"])\n",
    "  )\n",
    ")"
   ]
  },
  {
   "cell_type": "code",
   "execution_count": 6,
   "metadata": {},
   "outputs": [],
   "source": [
    "compustat = (compustat\n",
    "  .assign(year=lambda x: pd.DatetimeIndex(x[\"datadate\"]).year)\n",
    "  .sort_values(\"datadate\")\n",
    "  .groupby([\"gvkey\", \"year\"])\n",
    "  .tail(1)\n",
    "  .reset_index()\n",
    ")"
   ]
  },
  {
   "cell_type": "code",
   "execution_count": 7,
   "metadata": {},
   "outputs": [],
   "source": [
    "compustat_lag = (compustat\n",
    "  .get([\"gvkey\", \"year\", \"at\"])\n",
    "  .assign(year=lambda x: x[\"year\"]+1)\n",
    "  .rename(columns={\"at\": \"at_lag\"})\n",
    ")\n",
    "\n",
    "compustat = (compustat\n",
    "  .merge(compustat_lag, how=\"left\", on=[\"gvkey\", \"year\"])\n",
    "  .assign(inv=lambda x: x[\"at\"]/x[\"at_lag\"]-1)\n",
    "  .assign(inv=lambda x: np.where(x[\"at_lag\"] <= 0, np.nan, x[\"inv\"]))\n",
    ")"
   ]
  },
  {
   "cell_type": "code",
   "execution_count": 8,
   "metadata": {},
   "outputs": [],
   "source": [
    "tidy_finance = sqlite3.connect('data/compustat.db.sqlite')"
   ]
  },
  {
   "cell_type": "code",
   "execution_count": 9,
   "metadata": {},
   "outputs": [
    {
     "data": {
      "text/plain": [
       "495358"
      ]
     },
     "execution_count": 9,
     "metadata": {},
     "output_type": "execute_result"
    }
   ],
   "source": [
    "(compustat\n",
    "  .to_sql(name=\"compustat\", \n",
    "          con=tidy_finance, \n",
    "          if_exists=\"replace\",\n",
    "          index=False)\n",
    ")"
   ]
  },
  {
   "cell_type": "code",
   "execution_count": 10,
   "metadata": {},
   "outputs": [],
   "source": [
    "tidy_finance.close()"
   ]
  }
 ],
 "metadata": {
  "kernelspec": {
   "display_name": "financial_research",
   "language": "python",
   "name": "python3"
  },
  "language_info": {
   "codemirror_mode": {
    "name": "ipython",
    "version": 3
   },
   "file_extension": ".py",
   "mimetype": "text/x-python",
   "name": "python",
   "nbconvert_exporter": "python",
   "pygments_lexer": "ipython3",
   "version": "3.12.4"
  }
 },
 "nbformat": 4,
 "nbformat_minor": 2
}
