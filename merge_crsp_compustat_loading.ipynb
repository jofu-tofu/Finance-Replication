{
 "cells": [
  {
   "cell_type": "code",
   "execution_count": 2,
   "metadata": {},
   "outputs": [],
   "source": [
    "import pandas as pd\n",
    "import numpy as np\n",
    "import sqlite3\n",
    "import statsmodels.formula.api as smf\n",
    "import wrds\n",
    "from regtabletotext import prettify_result\n",
    "from dotenv import load_dotenv\n",
    "\n",
    "from plotnine import *\n",
    "from mizani.formatters import comma_format, percent_format\n",
    "from datetime import datetime"
   ]
  },
  {
   "cell_type": "code",
   "execution_count": 3,
   "metadata": {},
   "outputs": [],
   "source": [
    "from sqlalchemy import create_engine\n",
    "import os\n",
    "\n",
    "load_dotenv()\n",
    "\n",
    "connection_string = (\n",
    "  \"postgresql+psycopg2://\"\n",
    " f\"{os.getenv('WRDS_USER')}:{os.getenv('WRDS_PASSWORD')}\"\n",
    "  \"@wrds-pgdata.wharton.upenn.edu:9737/wrds\"\n",
    ")\n",
    "\n",
    "wrds = create_engine(connection_string, pool_pre_ping=True)"
   ]
  },
  {
   "cell_type": "code",
   "execution_count": 4,
   "metadata": {},
   "outputs": [],
   "source": [
    "start_date = \"01/01/1960\"\n",
    "end_date = \"12/31/2023\""
   ]
  },
  {
   "cell_type": "code",
   "execution_count": 5,
   "metadata": {},
   "outputs": [],
   "source": [
    "ccmxpf_linktable_query = (\n",
    "  \"SELECT lpermno AS permno, gvkey, linkdt, \"\n",
    "         \"COALESCE(linkenddt, CURRENT_DATE) AS linkenddt \"\n",
    "    \"FROM crsp.ccmxpf_linktable \"\n",
    "    \"WHERE linktype IN ('LU', 'LC') \"\n",
    "          \"AND linkprim IN ('P', 'C') \"\n",
    "          \"AND usedflag = 1\"\n",
    ")\n",
    "\n",
    "ccmxpf_linktable = pd.read_sql_query(\n",
    "  sql=ccmxpf_linktable_query,\n",
    "  con=wrds,\n",
    "  dtype={\"permno\": int, \"gvkey\": str},\n",
    "  parse_dates={\"linkdt\", \"linkenddt\"}\n",
    ")\n"
   ]
  },
  {
   "cell_type": "code",
   "execution_count": 8,
   "metadata": {},
   "outputs": [],
   "source": [
    "crsp_db = sqlite3.connect(\"data/crsp.db.sqlite\")\n",
    "crsp_monthly = pd.read_sql_query(\n",
    "  \"SELECT * FROM crsp_monthly\",\n",
    "  crsp_db,\n",
    "  parse_dates=[\"date\"]\n",
    ")\n",
    "\n",
    "\n",
    "ccm_links = (crsp_monthly\n",
    "  .merge(ccmxpf_linktable, how=\"inner\", on=\"permno\")\n",
    "  .query(\"~gvkey.isnull() & (date >= linkdt) & (date <= linkenddt)\")\n",
    "  .get([\"permno\", \"gvkey\", \"date\"])\n",
    ")\n",
    "\n",
    "crsp_monthly = (crsp_monthly\n",
    "  .merge(ccm_links, how=\"left\", on=[\"permno\", \"date\"])\n",
    ")"
   ]
  },
  {
   "cell_type": "code",
   "execution_count": 9,
   "metadata": {},
   "outputs": [
    {
     "data": {
      "text/plain": [
       "3378303"
      ]
     },
     "execution_count": 9,
     "metadata": {},
     "output_type": "execute_result"
    }
   ],
   "source": [
    "merged = sqlite3.connect(\"data/merged.db.sqlite\")\n",
    "(crsp_monthly\n",
    "  .to_sql(name=\"crsp_monthly\", \n",
    "          con=merged, \n",
    "          if_exists=\"replace\",\n",
    "          index=False)\n",
    ")"
   ]
  },
  {
   "cell_type": "code",
   "execution_count": 10,
   "metadata": {},
   "outputs": [],
   "source": [
    "crsp_db.close()\n",
    "merged.close()"
   ]
  }
 ],
 "metadata": {
  "kernelspec": {
   "display_name": "financial_research",
   "language": "python",
   "name": "python3"
  },
  "language_info": {
   "codemirror_mode": {
    "name": "ipython",
    "version": 3
   },
   "file_extension": ".py",
   "mimetype": "text/x-python",
   "name": "python",
   "nbconvert_exporter": "python",
   "pygments_lexer": "ipython3",
   "version": "3.12.4"
  }
 },
 "nbformat": 4,
 "nbformat_minor": 2
}
