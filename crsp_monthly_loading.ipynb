{
 "cells": [
  {
   "cell_type": "code",
   "execution_count": 1,
   "metadata": {},
   "outputs": [],
   "source": [
    "import pandas as pd\n",
    "import numpy as np\n",
    "import sqlite3\n",
    "import statsmodels.formula.api as smf\n",
    "import wrds\n",
    "from regtabletotext import prettify_result\n",
    "from dotenv import load_dotenv\n",
    "\n",
    "from plotnine import *\n",
    "from mizani.formatters import comma_format, percent_format\n",
    "from datetime import datetime"
   ]
  },
  {
   "cell_type": "code",
   "execution_count": 2,
   "metadata": {},
   "outputs": [],
   "source": [
    "from sqlalchemy import create_engine\n",
    "import os\n",
    "\n",
    "load_dotenv()\n",
    "\n",
    "connection_string = (\n",
    "  \"postgresql+psycopg2://\"\n",
    " f\"{os.getenv('WRDS_USER')}:{os.getenv('WRDS_PASSWORD')}\"\n",
    "  \"@wrds-pgdata.wharton.upenn.edu:9737/wrds\"\n",
    ")\n",
    "\n",
    "wrds = create_engine(connection_string, pool_pre_ping=True)"
   ]
  },
  {
   "cell_type": "code",
   "execution_count": 3,
   "metadata": {},
   "outputs": [],
   "source": [
    "start_date = \"01/01/1960\"\n",
    "end_date = \"12/31/2023\""
   ]
  },
  {
   "cell_type": "code",
   "execution_count": 4,
   "metadata": {},
   "outputs": [],
   "source": [
    "crsp_monthly_query = (\n",
    "  \"SELECT msf.permno, date_trunc('month', msf.mthcaldt)::date AS date, \"\n",
    "         \"msf.mthret AS ret, msf.shrout, msf.mthprc AS altprc, \"\n",
    "         \"ssih.primaryexch, ssih.siccd \"\n",
    "    \"FROM crsp.msf_v2 AS msf \"\n",
    "    \"INNER JOIN crsp.stksecurityinfohist AS ssih \"\n",
    "    \"ON msf.permno = ssih.permno AND \"\n",
    "       \"ssih.secinfostartdt <= msf.mthcaldt AND \"\n",
    "       \"msf.mthcaldt <= ssih.secinfoenddt \"\n",
    "   f\"WHERE msf.mthcaldt BETWEEN '{start_date}' AND '{end_date}' \"\n",
    "          \"AND ssih.sharetype = 'NS' \"\n",
    "          \"AND ssih.securitytype = 'EQTY' \"  \n",
    "          \"AND ssih.securitysubtype = 'COM' \" \n",
    "          \"AND ssih.usincflg = 'Y' \" \n",
    "          \"AND ssih.issuertype in ('ACOR', 'CORP') \" \n",
    "          \"AND ssih.primaryexch in ('N', 'A', 'Q') \"\n",
    "          \"AND ssih.conditionaltype in ('RW', 'NW') \"\n",
    "          \"AND ssih.tradingstatusflg = 'A'\"\n",
    ")\n",
    "\n",
    "crsp_monthly = (pd.read_sql_query(\n",
    "    sql=crsp_monthly_query,\n",
    "    con=wrds,\n",
    "    dtype={\"permno\": int, \"siccd\": int},\n",
    "    parse_dates={\"date\"})\n",
    "  .assign(shrout=lambda x: x[\"shrout\"]*1000)\n",
    ")"
   ]
  },
  {
   "cell_type": "code",
   "execution_count": 5,
   "metadata": {},
   "outputs": [],
   "source": [
    "crsp_monthly = (crsp_monthly\n",
    "  .assign(mktcap=lambda x: x[\"shrout\"]*x[\"altprc\"]/1000000)\n",
    "  .assign(mktcap=lambda x: x[\"mktcap\"].replace(0, np.nan))\n",
    ")"
   ]
  },
  {
   "cell_type": "code",
   "execution_count": 6,
   "metadata": {},
   "outputs": [],
   "source": [
    "mktcap_lag = (crsp_monthly\n",
    "  .assign(\n",
    "    date=lambda x: x[\"date\"]+pd.DateOffset(months=1),\n",
    "    mktcap_lag=lambda x: x[\"mktcap\"]\n",
    "  )\n",
    "  .get([\"permno\", \"date\", \"mktcap_lag\"])\n",
    ")\n",
    "\n",
    "crsp_monthly = (crsp_monthly\n",
    "  .merge(mktcap_lag, how=\"left\", on=[\"permno\", \"date\"])\n",
    ")"
   ]
  },
  {
   "cell_type": "code",
   "execution_count": 7,
   "metadata": {},
   "outputs": [],
   "source": [
    "def assign_exchange(primaryexch):\n",
    "    if primaryexch == \"N\":\n",
    "        return \"NYSE\"\n",
    "    elif primaryexch == \"A\":\n",
    "        return \"AMEX\"\n",
    "    elif primaryexch == \"Q\":\n",
    "        return \"NASDAQ\"\n",
    "    else:\n",
    "        return \"Other\"\n",
    "\n",
    "crsp_monthly[\"exchange\"] = (crsp_monthly[\"primaryexch\"]\n",
    "  .apply(assign_exchange)\n",
    ")"
   ]
  },
  {
   "cell_type": "code",
   "execution_count": 8,
   "metadata": {},
   "outputs": [],
   "source": [
    "def assign_industry(siccd):\n",
    "    if 1 <= siccd <= 999:\n",
    "        return \"Agriculture\"\n",
    "    elif 1000 <= siccd <= 1499:\n",
    "        return \"Mining\"\n",
    "    elif 1500 <= siccd <= 1799:\n",
    "        return \"Construction\"\n",
    "    elif 2000 <= siccd <= 3999:\n",
    "        return \"Manufacturing\"\n",
    "    elif 4000 <= siccd <= 4899:\n",
    "        return \"Transportation\"\n",
    "    elif 4900 <= siccd <= 4999:\n",
    "        return \"Utilities\"\n",
    "    elif 5000 <= siccd <= 5199:\n",
    "        return \"Wholesale\"\n",
    "    elif 5200 <= siccd <= 5999:\n",
    "        return \"Retail\"\n",
    "    elif 6000 <= siccd <= 6799:\n",
    "        return \"Finance\"\n",
    "    elif 7000 <= siccd <= 8999:\n",
    "        return \"Services\"\n",
    "    elif 9000 <= siccd <= 9999:\n",
    "        return \"Public\"\n",
    "    else:\n",
    "        return \"Missing\"\n",
    "\n",
    "crsp_monthly[\"industry\"] = (crsp_monthly[\"siccd\"]\n",
    "  .apply(assign_industry)\n",
    ")"
   ]
  },
  {
   "cell_type": "code",
   "execution_count": 9,
   "metadata": {},
   "outputs": [],
   "source": [
    "tidy_finance = sqlite3.connect(database=\"data/crsp.db.sqlite\")\n",
    "general_db = sqlite3.connect(database=\"data/db.sqlite\")\n",
    "factors_ff3_monthly = pd.read_sql_query(\n",
    "  sql=\"SELECT date, rf FROM factors_ff3_monthly\",\n",
    "  con=general_db,\n",
    "  parse_dates={\"date\"}\n",
    ")\n",
    "  \n",
    "crsp_monthly = (crsp_monthly\n",
    "  .merge(factors_ff3_monthly, how=\"left\", on=\"date\")\n",
    "  .assign(ret_excess=lambda x: x[\"ret\"]-x[\"rf\"])\n",
    "  .assign(ret_excess=lambda x: x[\"ret_excess\"].clip(lower=-1))\n",
    "  .drop(columns=[\"rf\"])\n",
    ")"
   ]
  },
  {
   "cell_type": "code",
   "execution_count": 10,
   "metadata": {},
   "outputs": [
    {
     "data": {
      "text/plain": [
       "3378303"
      ]
     },
     "execution_count": 10,
     "metadata": {},
     "output_type": "execute_result"
    }
   ],
   "source": [
    "crsp_monthly = (crsp_monthly\n",
    "  .dropna(subset=[\"ret_excess\", \"mktcap\", \"mktcap_lag\"])\n",
    ")\n",
    "\n",
    "(crsp_monthly\n",
    "  .to_sql(name=\"crsp_monthly\", \n",
    "          con=tidy_finance, \n",
    "          if_exists=\"replace\",\n",
    "          index=False)\n",
    ")"
   ]
  },
  {
   "cell_type": "code",
   "execution_count": 11,
   "metadata": {},
   "outputs": [],
   "source": [
    "ccmxpf_linktable_query = (\n",
    "  \"SELECT lpermno AS permno, gvkey, linkdt, \"\n",
    "         \"COALESCE(linkenddt, CURRENT_DATE) AS linkenddt \"\n",
    "    \"FROM crsp.ccmxpf_linktable \"\n",
    "    \"WHERE linktype IN ('LU', 'LC') \"\n",
    "          \"AND linkprim IN ('P', 'C') \"\n",
    "          \"AND usedflag = 1\"\n",
    ")\n",
    "\n",
    "ccmxpf_linktable = pd.read_sql_query(\n",
    "  sql=ccmxpf_linktable_query,\n",
    "  con=wrds,\n",
    "  dtype={\"permno\": int, \"gvkey\": str},\n",
    "  parse_dates={\"linkdt\", \"linkenddt\"}\n",
    ")\n"
   ]
  },
  {
   "cell_type": "code",
   "execution_count": 12,
   "metadata": {},
   "outputs": [],
   "source": [
    "ccm_links = (crsp_monthly\n",
    "  .merge(ccmxpf_linktable, how=\"inner\", on=\"permno\")\n",
    "  .query(\"~gvkey.isnull() & (date >= linkdt) & (date <= linkenddt)\")\n",
    "  .get([\"permno\", \"gvkey\", \"date\"])\n",
    ")\n",
    "\n",
    "crsp_monthly = (crsp_monthly\n",
    "  .merge(ccm_links, how=\"left\", on=[\"permno\", \"date\"])\n",
    ")"
   ]
  },
  {
   "cell_type": "code",
   "execution_count": 13,
   "metadata": {},
   "outputs": [
    {
     "data": {
      "text/plain": [
       "3378303"
      ]
     },
     "execution_count": 13,
     "metadata": {},
     "output_type": "execute_result"
    }
   ],
   "source": [
    "(crsp_monthly\n",
    "  .to_sql(name=\"crsp_monthly\", \n",
    "          con=tidy_finance, \n",
    "          if_exists=\"replace\",\n",
    "          index=False)\n",
    ")"
   ]
  },
  {
   "cell_type": "code",
   "execution_count": 14,
   "metadata": {},
   "outputs": [
    {
     "data": {
      "text/plain": [
       "<sqlite3.Cursor at 0x23bcc642340>"
      ]
     },
     "execution_count": 14,
     "metadata": {},
     "output_type": "execute_result"
    }
   ],
   "source": [
    "tidy_finance.execute(\"VACUUM\")\n",
    "general_db.execute(\"VACUUM\")"
   ]
  },
  {
   "cell_type": "code",
   "execution_count": 15,
   "metadata": {},
   "outputs": [],
   "source": [
    "general_db.close()\n",
    "tidy_finance.close()"
   ]
  }
 ],
 "metadata": {
  "kernelspec": {
   "display_name": "financial_research",
   "language": "python",
   "name": "python3"
  },
  "language_info": {
   "codemirror_mode": {
    "name": "ipython",
    "version": 3
   },
   "file_extension": ".py",
   "mimetype": "text/x-python",
   "name": "python",
   "nbconvert_exporter": "python",
   "pygments_lexer": "ipython3",
   "version": "3.12.4"
  }
 },
 "nbformat": 4,
 "nbformat_minor": 2
}
