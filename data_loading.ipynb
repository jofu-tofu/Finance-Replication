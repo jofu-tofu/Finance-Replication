{
 "cells": [
  {
   "cell_type": "code",
   "execution_count": 19,
   "metadata": {},
   "outputs": [],
   "source": [
    "import pandas as pd\n",
    "import numpy as np\n",
    "import sqlite3\n",
    "import statsmodels.formula.api as smf\n",
    "import wrds\n",
    "from regtabletotext import prettify_result\n",
    "from dotenv import load_dotenv\n",
    "\n",
    "from plotnine import *\n",
    "from mizani.formatters import comma_format, percent_format\n",
    "from datetime import datetime"
   ]
  },
  {
   "cell_type": "code",
   "execution_count": 20,
   "metadata": {},
   "outputs": [],
   "source": [
    "from sqlalchemy import create_engine\n",
    "import os\n",
    "\n",
    "load_dotenv()\n",
    "\n",
    "connection_string = (\n",
    "  \"postgresql+psycopg2://\"\n",
    " f\"{os.getenv('WRDS_USER')}:{os.getenv('WRDS_PASSWORD')}\"\n",
    "  \"@wrds-pgdata.wharton.upenn.edu:9737/wrds\"\n",
    ")\n",
    "\n",
    "wrds = create_engine(connection_string, pool_pre_ping=True)"
   ]
  },
  {
   "cell_type": "code",
   "execution_count": 21,
   "metadata": {},
   "outputs": [],
   "source": [
    "start_date = \"1960-01-01\"\n",
    "end_date = \"2023-12-31\""
   ]
  },
  {
   "cell_type": "code",
   "execution_count": 22,
   "metadata": {},
   "outputs": [],
   "source": [
    "import pandas_datareader as pdr"
   ]
  },
  {
   "cell_type": "code",
   "execution_count": 23,
   "metadata": {},
   "outputs": [
    {
     "name": "stderr",
     "output_type": "stream",
     "text": [
      "C:\\Users\\joshu\\AppData\\Local\\Temp\\ipykernel_30288\\3530363573.py:1: FutureWarning: The argument 'date_parser' is deprecated and will be removed in a future version. Please use 'date_format' instead, or read your data in as 'object' dtype and then call 'to_datetime'.\n",
      "C:\\Users\\joshu\\AppData\\Local\\Temp\\ipykernel_30288\\3530363573.py:1: FutureWarning: The argument 'date_parser' is deprecated and will be removed in a future version. Please use 'date_format' instead, or read your data in as 'object' dtype and then call 'to_datetime'.\n"
     ]
    }
   ],
   "source": [
    "factors_ff3_monthly_raw = pdr.DataReader(\n",
    "  name=\"F-F_Research_Data_Factors\",\n",
    "  data_source=\"famafrench\", \n",
    "  start=start_date, \n",
    "  end=end_date)[0]\n",
    "\n",
    "factors_ff3_monthly = (factors_ff3_monthly_raw\n",
    "  .divide(100)\n",
    "  .reset_index(names=\"date\")\n",
    "  .assign(date=lambda x: pd.to_datetime(x[\"date\"].astype(str)))\n",
    "  .rename(str.lower, axis=\"columns\")\n",
    "  .rename(columns={\"mkt-rf\": \"mkt_excess\"})\n",
    ")"
   ]
  },
  {
   "cell_type": "code",
   "execution_count": 24,
   "metadata": {},
   "outputs": [
    {
     "name": "stderr",
     "output_type": "stream",
     "text": [
      "C:\\Users\\joshu\\AppData\\Local\\Temp\\ipykernel_30288\\1470603030.py:1: FutureWarning: The argument 'date_parser' is deprecated and will be removed in a future version. Please use 'date_format' instead, or read your data in as 'object' dtype and then call 'to_datetime'.\n",
      "C:\\Users\\joshu\\AppData\\Local\\Temp\\ipykernel_30288\\1470603030.py:1: FutureWarning: The argument 'date_parser' is deprecated and will be removed in a future version. Please use 'date_format' instead, or read your data in as 'object' dtype and then call 'to_datetime'.\n"
     ]
    }
   ],
   "source": [
    "factors_ff5_monthly_raw = pdr.DataReader(\n",
    "  name=\"F-F_Research_Data_5_Factors_2x3\",\n",
    "  data_source=\"famafrench\", \n",
    "  start=start_date, \n",
    "  end=end_date)[0]\n",
    "\n",
    "factors_ff5_monthly = (factors_ff5_monthly_raw\n",
    "  .divide(100)\n",
    "  .reset_index(names=\"date\")\n",
    "  .assign(date=lambda x: pd.to_datetime(x[\"date\"].astype(str)))\n",
    "  .rename(str.lower, axis=\"columns\")\n",
    "  .rename(columns={\"mkt-rf\": \"mkt_excess\"})\n",
    ")"
   ]
  },
  {
   "cell_type": "code",
   "execution_count": 25,
   "metadata": {},
   "outputs": [
    {
     "name": "stderr",
     "output_type": "stream",
     "text": [
      "C:\\Users\\joshu\\AppData\\Local\\Temp\\ipykernel_30288\\4051783287.py:1: FutureWarning: The argument 'date_parser' is deprecated and will be removed in a future version. Please use 'date_format' instead, or read your data in as 'object' dtype and then call 'to_datetime'.\n"
     ]
    }
   ],
   "source": [
    "factors_ff3_daily_raw = pdr.DataReader(\n",
    "  name=\"F-F_Research_Data_Factors_daily\",\n",
    "  data_source=\"famafrench\", \n",
    "  start=start_date, \n",
    "  end=end_date)[0]\n",
    "\n",
    "factors_ff3_daily = (factors_ff3_daily_raw\n",
    "  .divide(100)\n",
    "  .reset_index(names=\"date\")\n",
    "  .rename(str.lower, axis=\"columns\")\n",
    "  .rename(columns={\"mkt-rf\": \"mkt_excess\"})\n",
    ")"
   ]
  },
  {
   "cell_type": "code",
   "execution_count": 26,
   "metadata": {},
   "outputs": [
    {
     "name": "stderr",
     "output_type": "stream",
     "text": [
      "C:\\Users\\joshu\\AppData\\Local\\Temp\\ipykernel_30288\\211383734.py:1: FutureWarning: The argument 'date_parser' is deprecated and will be removed in a future version. Please use 'date_format' instead, or read your data in as 'object' dtype and then call 'to_datetime'.\n",
      "C:\\Users\\joshu\\AppData\\Local\\Temp\\ipykernel_30288\\211383734.py:1: FutureWarning: The argument 'date_parser' is deprecated and will be removed in a future version. Please use 'date_format' instead, or read your data in as 'object' dtype and then call 'to_datetime'.\n",
      "C:\\Users\\joshu\\AppData\\Local\\Temp\\ipykernel_30288\\211383734.py:1: FutureWarning: The argument 'date_parser' is deprecated and will be removed in a future version. Please use 'date_format' instead, or read your data in as 'object' dtype and then call 'to_datetime'.\n",
      "C:\\Users\\joshu\\AppData\\Local\\Temp\\ipykernel_30288\\211383734.py:1: FutureWarning: The argument 'date_parser' is deprecated and will be removed in a future version. Please use 'date_format' instead, or read your data in as 'object' dtype and then call 'to_datetime'.\n",
      "C:\\Users\\joshu\\AppData\\Local\\Temp\\ipykernel_30288\\211383734.py:1: FutureWarning: The argument 'date_parser' is deprecated and will be removed in a future version. Please use 'date_format' instead, or read your data in as 'object' dtype and then call 'to_datetime'.\n",
      "C:\\Users\\joshu\\AppData\\Local\\Temp\\ipykernel_30288\\211383734.py:1: FutureWarning: The argument 'date_parser' is deprecated and will be removed in a future version. Please use 'date_format' instead, or read your data in as 'object' dtype and then call 'to_datetime'.\n",
      "C:\\Users\\joshu\\AppData\\Local\\Temp\\ipykernel_30288\\211383734.py:1: FutureWarning: The argument 'date_parser' is deprecated and will be removed in a future version. Please use 'date_format' instead, or read your data in as 'object' dtype and then call 'to_datetime'.\n",
      "C:\\Users\\joshu\\AppData\\Local\\Temp\\ipykernel_30288\\211383734.py:1: FutureWarning: The argument 'date_parser' is deprecated and will be removed in a future version. Please use 'date_format' instead, or read your data in as 'object' dtype and then call 'to_datetime'.\n"
     ]
    }
   ],
   "source": [
    "industries_ff_monthly_raw = pdr.DataReader(\n",
    "  name=\"10_Industry_Portfolios\",\n",
    "  data_source=\"famafrench\", \n",
    "  start=start_date, \n",
    "  end=end_date)[0]\n",
    "\n",
    "industries_ff_monthly = (industries_ff_monthly_raw\n",
    "  .divide(100)\n",
    "  .reset_index(names=\"date\")\n",
    "  .assign(date=lambda x: pd.to_datetime(x[\"date\"].astype(str)))\n",
    "  .rename(str.lower, axis=\"columns\")\n",
    ")"
   ]
  },
  {
   "cell_type": "code",
   "execution_count": 27,
   "metadata": {},
   "outputs": [],
   "source": [
    "sheet_id = \"1bM7vCWd3WOt95Sf9qjLPZjoiafgF_8EG\"\n",
    "sheet_name = \"macro_predictors.xlsx\"\n",
    "macro_predictors_link = (\n",
    "  f\"https://docs.google.com/spreadsheets/d/{sheet_id}\" \n",
    "  f\"/gviz/tq?tqx=out:csv&sheet={sheet_name}\"\n",
    ")"
   ]
  },
  {
   "cell_type": "code",
   "execution_count": 28,
   "metadata": {},
   "outputs": [],
   "source": [
    "macro_predictors = (\n",
    "  pd.read_csv(macro_predictors_link, thousands=\",\")\n",
    "  .assign(\n",
    "    date=lambda x: pd.to_datetime(x[\"yyyymm\"], format=\"%Y%m\"),\n",
    "    dp=lambda x: np.log(x[\"D12\"])-np.log(x[\"Index\"]),\n",
    "    dy=lambda x: np.log(x[\"D12\"])-np.log(x[\"Index\"].shift(1)),\n",
    "    ep=lambda x: np.log(x[\"E12\"])-np.log(x[\"Index\"]),\n",
    "    de=lambda x: np.log(x[\"D12\"])-np.log(x[\"E12\"]),\n",
    "    tms=lambda x: x[\"lty\"]-x[\"tbl\"],\n",
    "    dfy=lambda x: x[\"BAA\"]-x[\"AAA\"]\n",
    "  )\n",
    "  .rename(columns={\"b/m\": \"bm\"})\n",
    "  .get([\"date\", \"dp\", \"dy\", \"ep\", \"de\", \"svar\", \"bm\", \n",
    "        \"ntis\", \"tbl\", \"lty\", \"ltr\", \"tms\", \"dfy\", \"infl\"])\n",
    "  .query(\"date >= @start_date and date <= @end_date\")\n",
    "  .dropna()\n",
    ")"
   ]
  },
  {
   "cell_type": "code",
   "execution_count": 29,
   "metadata": {},
   "outputs": [],
   "source": [
    "cpi_monthly = (pdr.DataReader(\n",
    "    name=\"CPIAUCNS\", \n",
    "    data_source=\"fred\", \n",
    "    start=start_date, \n",
    "    end=end_date\n",
    "  )\n",
    "  .reset_index(names=\"date\")\n",
    "  .rename(columns={\"CPIAUCNS\": \"cpi\"})\n",
    "  .assign(cpi=lambda x: x[\"cpi\"]/x[\"cpi\"].iloc[-1])\n",
    ")"
   ]
  },
  {
   "cell_type": "code",
   "execution_count": 30,
   "metadata": {},
   "outputs": [],
   "source": [
    "import sqlite3\n",
    "tidy_finance = sqlite3.connect(database=\"data/db.sqlite\")"
   ]
  },
  {
   "cell_type": "code",
   "execution_count": 31,
   "metadata": {},
   "outputs": [
    {
     "data": {
      "text/plain": [
       "768"
      ]
     },
     "execution_count": 31,
     "metadata": {},
     "output_type": "execute_result"
    }
   ],
   "source": [
    "(factors_ff3_monthly\n",
    "  .to_sql(name=\"factors_ff3_monthly\", \n",
    "          con=tidy_finance, \n",
    "          if_exists=\"replace\",\n",
    "          index=False)\n",
    ")"
   ]
  },
  {
   "cell_type": "code",
   "execution_count": 32,
   "metadata": {},
   "outputs": [
    {
     "data": {
      "text/html": [
       "<div>\n",
       "<style scoped>\n",
       "    .dataframe tbody tr th:only-of-type {\n",
       "        vertical-align: middle;\n",
       "    }\n",
       "\n",
       "    .dataframe tbody tr th {\n",
       "        vertical-align: top;\n",
       "    }\n",
       "\n",
       "    .dataframe thead th {\n",
       "        text-align: right;\n",
       "    }\n",
       "</style>\n",
       "<table border=\"1\" class=\"dataframe\">\n",
       "  <thead>\n",
       "    <tr style=\"text-align: right;\">\n",
       "      <th></th>\n",
       "      <th>date</th>\n",
       "      <th>rf</th>\n",
       "    </tr>\n",
       "  </thead>\n",
       "  <tbody>\n",
       "    <tr>\n",
       "      <th>0</th>\n",
       "      <td>1960-01-01</td>\n",
       "      <td>0.0033</td>\n",
       "    </tr>\n",
       "    <tr>\n",
       "      <th>1</th>\n",
       "      <td>1960-02-01</td>\n",
       "      <td>0.0029</td>\n",
       "    </tr>\n",
       "    <tr>\n",
       "      <th>2</th>\n",
       "      <td>1960-03-01</td>\n",
       "      <td>0.0035</td>\n",
       "    </tr>\n",
       "    <tr>\n",
       "      <th>3</th>\n",
       "      <td>1960-04-01</td>\n",
       "      <td>0.0019</td>\n",
       "    </tr>\n",
       "    <tr>\n",
       "      <th>4</th>\n",
       "      <td>1960-05-01</td>\n",
       "      <td>0.0027</td>\n",
       "    </tr>\n",
       "    <tr>\n",
       "      <th>...</th>\n",
       "      <td>...</td>\n",
       "      <td>...</td>\n",
       "    </tr>\n",
       "    <tr>\n",
       "      <th>763</th>\n",
       "      <td>2023-08-01</td>\n",
       "      <td>0.0045</td>\n",
       "    </tr>\n",
       "    <tr>\n",
       "      <th>764</th>\n",
       "      <td>2023-09-01</td>\n",
       "      <td>0.0043</td>\n",
       "    </tr>\n",
       "    <tr>\n",
       "      <th>765</th>\n",
       "      <td>2023-10-01</td>\n",
       "      <td>0.0047</td>\n",
       "    </tr>\n",
       "    <tr>\n",
       "      <th>766</th>\n",
       "      <td>2023-11-01</td>\n",
       "      <td>0.0044</td>\n",
       "    </tr>\n",
       "    <tr>\n",
       "      <th>767</th>\n",
       "      <td>2023-12-01</td>\n",
       "      <td>0.0043</td>\n",
       "    </tr>\n",
       "  </tbody>\n",
       "</table>\n",
       "<p>768 rows × 2 columns</p>\n",
       "</div>"
      ],
      "text/plain": [
       "          date      rf\n",
       "0   1960-01-01  0.0033\n",
       "1   1960-02-01  0.0029\n",
       "2   1960-03-01  0.0035\n",
       "3   1960-04-01  0.0019\n",
       "4   1960-05-01  0.0027\n",
       "..         ...     ...\n",
       "763 2023-08-01  0.0045\n",
       "764 2023-09-01  0.0043\n",
       "765 2023-10-01  0.0047\n",
       "766 2023-11-01  0.0044\n",
       "767 2023-12-01  0.0043\n",
       "\n",
       "[768 rows x 2 columns]"
      ]
     },
     "execution_count": 32,
     "metadata": {},
     "output_type": "execute_result"
    }
   ],
   "source": [
    "pd.read_sql_query(\n",
    "  sql=\"SELECT date, rf FROM factors_ff3_monthly\",\n",
    "  con=tidy_finance,\n",
    "  parse_dates={\"date\"}\n",
    ")"
   ]
  },
  {
   "cell_type": "code",
   "execution_count": 33,
   "metadata": {},
   "outputs": [],
   "source": [
    "data_dict = {\n",
    "  \"factors_ff5_monthly\": factors_ff5_monthly,\n",
    "  \"factors_ff3_daily\": factors_ff3_daily,\n",
    "  \"industries_ff_monthly\": industries_ff_monthly,\n",
    "  \"macro_predictors\": macro_predictors,\n",
    "  \"cpi_monthly\": cpi_monthly\n",
    "}\n",
    "\n",
    "for key, value in data_dict.items():\n",
    "    value.to_sql(name=key,\n",
    "                 con=tidy_finance, \n",
    "                 if_exists=\"replace\",\n",
    "                 index=False)"
   ]
  },
  {
   "cell_type": "code",
   "execution_count": 34,
   "metadata": {},
   "outputs": [
    {
     "data": {
      "text/plain": [
       "<sqlite3.Cursor at 0x1f9810e60c0>"
      ]
     },
     "execution_count": 34,
     "metadata": {},
     "output_type": "execute_result"
    }
   ],
   "source": [
    "tidy_finance.execute(\"VACUUM\")"
   ]
  },
  {
   "cell_type": "code",
   "execution_count": 35,
   "metadata": {},
   "outputs": [],
   "source": [
    "tidy_finance.close()"
   ]
  }
 ],
 "metadata": {
  "kernelspec": {
   "display_name": "financial_research",
   "language": "python",
   "name": "python3"
  },
  "language_info": {
   "codemirror_mode": {
    "name": "ipython",
    "version": 3
   },
   "file_extension": ".py",
   "mimetype": "text/x-python",
   "name": "python",
   "nbconvert_exporter": "python",
   "pygments_lexer": "ipython3",
   "version": "3.12.4"
  }
 },
 "nbformat": 4,
 "nbformat_minor": 2
}
